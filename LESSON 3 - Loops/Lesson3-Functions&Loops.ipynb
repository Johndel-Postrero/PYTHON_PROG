{
 "cells": [
  {
   "cell_type": "markdown",
   "id": "899c8fab-7097-4ff3-a5a4-46d3a60f5d04",
   "metadata": {},
   "source": [
    "# REVIEW QUESTION #1\n",
    "\n",
    "_____"
   ]
  },
  {
   "cell_type": "code",
   "execution_count": 6,
   "id": "35b54d6e-0f5f-4baf-bd69-6c85cb6dd54e",
   "metadata": {},
   "outputs": [
    {
     "name": "stdout",
     "output_type": "stream",
     "text": [
      "Number 3 raised to the third power is 27.\n",
      "Number 4 raised to the third power is 64.\n",
      "Number 5 raised to the third power is 125.\n"
     ]
    }
   ],
   "source": [
    "def cube(number):\n",
    "    number = number ** 3\n",
    "    return number\n",
    "print(f\"Number 3 raised to the third power is {cube(3)}.\")\n",
    "print(f\"Number 4 raised to the third power is {cube(4)}.\")\n",
    "print(f\"Number 5 raised to the third power is {cube(5)}.\")"
   ]
  },
  {
   "cell_type": "code",
   "execution_count": 15,
   "id": "9f666a55-b5db-4d5c-8ef5-55be8ccf0318",
   "metadata": {},
   "outputs": [
    {
     "name": "stdout",
     "output_type": "stream",
     "text": [
      "Hello, Johndel!\n"
     ]
    }
   ],
   "source": [
    "def greet(name):\n",
    "    print(f\"Hello, {name}!\")\n",
    "greet(\"Johndel\")"
   ]
  },
  {
   "cell_type": "markdown",
   "id": "81e0e644-1971-4423-957f-0233898a58c7",
   "metadata": {},
   "source": [
    "# CHALLENGE: CONVERT TEMPERATURES\n",
    "\n",
    "___"
   ]
  },
  {
   "cell_type": "code",
   "execution_count": 7,
   "id": "33c5fd32-f182-42ad-aac3-fca303686aa8",
   "metadata": {},
   "outputs": [
    {
     "name": "stdin",
     "output_type": "stream",
     "text": [
      "Enter a temperature in degrees C:  37\n"
     ]
    },
    {
     "name": "stdout",
     "output_type": "stream",
     "text": [
      "37.0 degrees C = 98.60 degrees F\n"
     ]
    }
   ],
   "source": [
    "def convert_cel_to_far(celsius):\n",
    "    fahrenheit = (celsius * 9/5) + 32\n",
    "    return fahrenheit\n",
    "user = float(input(\"Enter a temperature in degrees C: \"))\n",
    "result = convert_cel_to_far(user)\n",
    "print(f\"{user} degrees C = {result:.2f} degrees F\")"
   ]
  },
  {
   "cell_type": "code",
   "execution_count": 8,
   "id": "14a89f2f-4e33-4840-be5e-1258d7f47672",
   "metadata": {},
   "outputs": [
    {
     "name": "stdin",
     "output_type": "stream",
     "text": [
      "Enter a temperature in degrees F:  72\n"
     ]
    },
    {
     "name": "stdout",
     "output_type": "stream",
     "text": [
      "72.0 degrees F = 22.22 degrees C\n"
     ]
    }
   ],
   "source": [
    "def convert_far_to_cel(fahrenheit):\n",
    "    celsius = (fahrenheit - 32) * 5/9\n",
    "    return celsius\n",
    "user = float(input(\"Enter a temperature in degrees F: \"))\n",
    "result = convert_far_to_cel(user)\n",
    "print(f\"{user} degrees F = {result:.2f} degrees C\")"
   ]
  },
  {
   "cell_type": "markdown",
   "id": "8e10cf9f-51c4-4958-b05f-d257766947c1",
   "metadata": {},
   "source": [
    "# REVIEW QUESTION #2\n",
    "\n",
    "___"
   ]
  },
  {
   "cell_type": "code",
   "execution_count": 9,
   "id": "fa2e99d8-de6d-4fd6-b84b-5a5e8c6faa2e",
   "metadata": {},
   "outputs": [
    {
     "name": "stdout",
     "output_type": "stream",
     "text": [
      "2\n",
      "3\n",
      "4\n",
      "5\n",
      "6\n",
      "7\n",
      "8\n",
      "9\n",
      "10\n"
     ]
    }
   ],
   "source": [
    "for i in range(2, 11):\n",
    "    print(i)"
   ]
  },
  {
   "cell_type": "code",
   "execution_count": 11,
   "id": "fc57ae71-331c-46c0-bc46-01000ab104f3",
   "metadata": {},
   "outputs": [
    {
     "name": "stdout",
     "output_type": "stream",
     "text": [
      "2\n",
      "3\n",
      "4\n",
      "5\n",
      "6\n",
      "7\n",
      "8\n",
      "9\n",
      "10\n"
     ]
    }
   ],
   "source": [
    "num = 2\n",
    "while num <= 10:\n",
    "    print(num)\n",
    "    num += 1"
   ]
  },
  {
   "cell_type": "code",
   "execution_count": 18,
   "id": "a9ab6fc6-c27b-4def-9987-ca28c079e583",
   "metadata": {},
   "outputs": [
    {
     "name": "stdout",
     "output_type": "stream",
     "text": [
      "4\n",
      "8\n",
      "16\n"
     ]
    }
   ],
   "source": [
    "def doubles(num):\n",
    "    num = num * 2\n",
    "    return num\n",
    "\n",
    "value = 2\n",
    "for i in range(3):\n",
    "    value = doubles(value)\n",
    "    print(value)"
   ]
  }
 ],
 "metadata": {
  "kernelspec": {
   "display_name": "Python [conda env:myenv]",
   "language": "python",
   "name": "conda-env-myenv-py"
  },
  "language_info": {
   "codemirror_mode": {
    "name": "ipython",
    "version": 3
   },
   "file_extension": ".py",
   "mimetype": "text/x-python",
   "name": "python",
   "nbconvert_exporter": "python",
   "pygments_lexer": "ipython3",
   "version": "3.10.18"
  }
 },
 "nbformat": 4,
 "nbformat_minor": 5
}
