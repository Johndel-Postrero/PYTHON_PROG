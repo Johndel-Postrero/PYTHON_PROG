{
 "cells": [
  {
   "cell_type": "markdown",
   "id": "29b852ec-8365-4dab-a696-db32f41f9d15",
   "metadata": {},
   "source": [
    "# REVIEW EXERCISES #1\n",
    "\n",
    "___"
   ]
  },
  {
   "cell_type": "code",
   "execution_count": 26,
   "id": "cd0d6fe5-e39e-40a1-9d44-3012e355db9c",
   "metadata": {},
   "outputs": [
    {
     "name": "stdout",
     "output_type": "stream",
     "text": [
      "Philo's coat is brown.\n"
     ]
    }
   ],
   "source": [
    "class Dog:\n",
    "    def __init__(dawg, name, age, coat_color):\n",
    "        dawg.name = name\n",
    "        dawg.age = age\n",
    "        dawg.coat_color = coat_color\n",
    "\n",
    "philo = Dog(\"Philo\", 5, \"brown\")\n",
    "print(f\"{philo.name}'s coat is {philo.coat_color}.\")"
   ]
  },
  {
   "cell_type": "code",
   "execution_count": 53,
   "id": "959f4c52-cb79-41b4-9460-bd89f16d26f1",
   "metadata": {},
   "outputs": [
    {
     "name": "stdout",
     "output_type": "stream",
     "text": [
      "The blue car has 20,000 miles.\n",
      "The red car has 30,000 miles.\n"
     ]
    }
   ],
   "source": [
    "class Car:\n",
    "    def __init__(self, color, mile_age):\n",
    "        self.color = color\n",
    "        self.mile_age = mile_age\n",
    "        \n",
    "    def description(self):\n",
    "        return f\"The {self.color} car has {self.mile_age:,} miles.\"\n",
    "\n",
    "car1 = Car(\"blue\", 20000)\n",
    "car2 = Car(\"red\", 30_000)\n",
    "\n",
    "print(car1.description())\n",
    "print(car2.description())"
   ]
  },
  {
   "cell_type": "code",
   "execution_count": 57,
   "id": "75b3d130-8e56-4229-829a-91f0e5eed2e0",
   "metadata": {},
   "outputs": [
    {
     "name": "stdout",
     "output_type": "stream",
     "text": [
      "The green car has 100 miles.\n"
     ]
    }
   ],
   "source": [
    "    def drive(self, miles):\n",
    "        self.mile_age += miles\n",
    "        return f\"The {self.color} car has {self.mile_age:,} miles.\"\n",
    "        \n",
    "car3 = Car(\"green\", 0)\n",
    "print(car3.drive(100))"
   ]
  },
  {
   "cell_type": "markdown",
   "id": "418f4e3e-fbb9-4232-984e-8513f4f56ad0",
   "metadata": {},
   "source": [
    "# REVIEW EXERCISES #2\n",
    "\n",
    "_____"
   ]
  },
  {
   "cell_type": "code",
   "execution_count": 5,
   "id": "7fd5e037-fe38-47bc-ae27-b9e1e6d7a7ad",
   "metadata": {},
   "outputs": [
    {
     "name": "stdout",
     "output_type": "stream",
     "text": [
      "Spotty is 4 years old\n",
      "Spotty says bark\n",
      "Spotty says aw aw aw\n"
     ]
    }
   ],
   "source": [
    "class Dog:\n",
    "    species = \"Canis familiaris\"\n",
    "\n",
    "    def __init__(self, name, age):\n",
    "        self.name = name\n",
    "        self.age = age\n",
    "\n",
    "    def __str__(self):\n",
    "        return f\"{self.name} is {self.age} years old\"\n",
    "\n",
    "    def speak(self, sound):\n",
    "        return f\"{self.name} says {sound}\"\n",
    "\n",
    "class GoldenRetriever(Dog):\n",
    "    def speak(self, sound = \"bark\"):\n",
    "        return super().speak(sound)\n",
    "\n",
    "# sample\n",
    "gr = GoldenRetriever(\"Spotty\", 10)\n",
    "print(str(gr))\n",
    "print(gr.speak())\n",
    "print(gr.speak(\"aw aw aw\"))"
   ]
  },
  {
   "cell_type": "code",
   "execution_count": 10,
   "id": "e92145af-a9e3-4106-a3e6-2f289c70e8a1",
   "metadata": {},
   "outputs": [
    {
     "name": "stdout",
     "output_type": "stream",
     "text": [
      "The area of the square is 16.\n"
     ]
    }
   ],
   "source": [
    "class rectangle:\n",
    "    def __init__(self, length, width):\n",
    "        self.length = float(length)\n",
    "        self.width  = float(width)\n",
    "\n",
    "    def area(self):\n",
    "        return self.length * self.width\n",
    "\n",
    "class Square(Rectangle):\n",
    "    def __init__(self, side_length):\n",
    "        super().__init__(side_length, side_length)\n",
    "\n",
    "# sample\n",
    "sq = Square(4)\n",
    "print(f\"The area of the square is {sq.area():g}.\")"
   ]
  },
  {
   "cell_type": "markdown",
   "id": "48c298c7-a6d3-4267-9158-79decab78458",
   "metadata": {},
   "source": [
    "# Challenge: Model a Farm \n",
    "\n",
    "______"
   ]
  },
  {
   "cell_type": "code",
   "execution_count": null,
   "id": "44c732a0-a2eb-4376-a5b3-403e4b396fc2",
   "metadata": {},
   "outputs": [],
   "source": [
    "class Animal:\n",
    "    def __init__(self, name: str, species: str, age: int, action: str):\n",
    "        self.name = name\n",
    "        self.species = species\n",
    "        self.age = age\n",
    "        self.action = action\n",
    "\n",
    "    def show_info(self):\n",
    "        print(f\"{self.name} is a {self.species}\")\n",
    "        self.make_sound()\n",
    "        print(f\"{self.name} is {self.age} years old\")\n",
    "        print(f\"{self.name} {self.action}\\n\")\n",
    "\n",
    "class Bird(Animal):\n",
    "    def make_sound(self):\n",
    "        print(f\"{self.name} says Chrip Chrip Chrip!\")\n",
    "\n",
    "class Chicken(Animal):\n",
    "    def make_sound(self):\n",
    "        print(f\"{self.name} says Bwak Bwak Bwak!\")\n",
    "\n",
    "class Frog(Animal):\n",
    "    def make_sound(self):\n",
    "        print(f\"{self.name} says Kokak Kokak Kokak!\")\n",
    "\n",
    "bird  = Bird(\"Pooly\", \"Bird\", 4, \"flying in the sky\")\n",
    "chicken  = Chicken(\"Paulax\", \"Chicken\", 3, \"finding worms\")\n",
    "frog = Frog(\"Proggy\", \"Frog\", 1, \"swimming in the lake\")\n",
    "\n",
    "# output\n",
    "for animal in (cow, cat, goat):\n",
    "    animal.show_info()"
   ]
  }
 ],
 "metadata": {
  "kernelspec": {
   "display_name": "Python [conda env:base] *",
   "language": "python",
   "name": "conda-base-py"
  },
  "language_info": {
   "codemirror_mode": {
    "name": "ipython",
    "version": 3
   },
   "file_extension": ".py",
   "mimetype": "text/x-python",
   "name": "python",
   "nbconvert_exporter": "python",
   "pygments_lexer": "ipython3",
   "version": "3.13.5"
  }
 },
 "nbformat": 4,
 "nbformat_minor": 5
}
