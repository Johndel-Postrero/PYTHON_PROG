{
 "cells": [
  {
   "cell_type": "markdown",
   "id": "20aac063-c248-4e77-bb9d-a8dcbf3132d8",
   "metadata": {},
   "source": [
    "# REVIEW EXERCISES #1\n",
    "\n",
    "___"
   ]
  },
  {
   "cell_type": "code",
   "execution_count": 1,
   "id": "c653c27c-b2b1-4f85-98ce-8aa21bb3f925",
   "metadata": {},
   "outputs": [
    {
     "name": "stdout",
     "output_type": "stream",
     "text": [
      "True\n",
      "False\n",
      "True\n",
      "True\n",
      "True\n",
      "False\n"
     ]
    }
   ],
   "source": [
    "print(1 <= 1)\n",
    "print(1 != 1)\n",
    "print(1 != 2)\n",
    "print(\"good\" != \"bad\")\n",
    "print(\"good\" != \"Good\")\n",
    "print(123 == \"123\")"
   ]
  },
  {
   "cell_type": "code",
   "execution_count": 2,
   "id": "a702c211-e704-473e-8102-55cbe32bdc6c",
   "metadata": {},
   "outputs": [
    {
     "name": "stdout",
     "output_type": "stream",
     "text": [
      "True\n",
      "True\n",
      "True\n",
      "True\n"
     ]
    }
   ],
   "source": [
    "print(3 < 4)\n",
    "print(10 > 5)\n",
    "print(\"jack\" != \"jill\")\n",
    "print(42 != \"42\")"
   ]
  },
  {
   "cell_type": "markdown",
   "id": "2c847448-b490-4240-8023-7339952759f8",
   "metadata": {},
   "source": [
    "# REVIEW EXERCISES #2\n",
    "\n",
    "____"
   ]
  },
  {
   "cell_type": "code",
   "execution_count": 3,
   "id": "cde3221a-e26f-44d7-ab7f-347b21804e3d",
   "metadata": {},
   "outputs": [
    {
     "name": "stdout",
     "output_type": "stream",
     "text": [
      "False\n",
      "False\n",
      "True\n",
      "False\n"
     ]
    }
   ],
   "source": [
    "print((1 <= 1) and (1 != 1))\n",
    "print(not (1 != 2))\n",
    "print((\"good\" != \"bad\") or False)\n",
    "print((\"good\" != \"Good\") and not (1 == 1))"
   ]
  },
  {
   "cell_type": "code",
   "execution_count": 4,
   "id": "5b110ecc-3288-498f-bb75-175f07ae820e",
   "metadata": {},
   "outputs": [
    {
     "name": "stdout",
     "output_type": "stream",
     "text": [
      "True\n",
      "False\n",
      "False\n"
     ]
    }
   ],
   "source": [
    "print(False == (not True))\n",
    "print(True and False == True and False)\n",
    "print(not True and \"A\" == \"B\")"
   ]
  },
  {
   "cell_type": "markdown",
   "id": "6aac9f5d-a4d3-493f-ba53-c2936ed17ca8",
   "metadata": {},
   "source": [
    "# REVIEW EXERCISES #3\n",
    "\n",
    "___"
   ]
  },
  {
   "cell_type": "code",
   "execution_count": 39,
   "id": "2956ac6d-1877-42f8-a537-26777fd79ae2",
   "metadata": {},
   "outputs": [
    {
     "name": "stdin",
     "output_type": "stream",
     "text": [
      "Enter a word: Hello\n"
     ]
    },
    {
     "name": "stdout",
     "output_type": "stream",
     "text": [
      "Your words \"Hello\" is equal to 5 characters.\n"
     ]
    }
   ],
   "source": [
    "userInput = input(\"Enter a word:\")\n",
    "wordLength = len(userInput)\n",
    "\n",
    "if wordLength <  5:\n",
    "    print(f'Your words \"{userInput}\" is less than 5 characters.')\n",
    "elif wordLength > 5:\n",
    "    print(f'Your words \"{userInput}\" is greater than 5 characters.')\n",
    "else:\n",
    "    print(f'Your words \"{userInput}\" is equal to 5 characters.')"
   ]
  },
  {
   "cell_type": "markdown",
   "id": "0ee90ee5-13ad-4998-ad2d-d3dddf469726",
   "metadata": {},
   "source": [
    "# REVIEW EXCERCISES #4\n",
    "\n",
    "___"
   ]
  },
  {
   "cell_type": "code",
   "execution_count": 3,
   "id": "4fa62cbd-f216-4c8c-9904-b63cff24fb9e",
   "metadata": {},
   "outputs": [
    {
     "name": "stdin",
     "output_type": "stream",
     "text": [
      "Input any words(q to exit):  wcd\n"
     ]
    },
    {
     "name": "stdout",
     "output_type": "stream",
     "text": [
      "You inputted \"wcd\".\n"
     ]
    },
    {
     "name": "stdin",
     "output_type": "stream",
     "text": [
      "Input any words(q to exit):  dzv\n"
     ]
    },
    {
     "name": "stdout",
     "output_type": "stream",
     "text": [
      "You inputted \"dzv\".\n"
     ]
    },
    {
     "name": "stdin",
     "output_type": "stream",
     "text": [
      "Input any words(q to exit):  vds\n"
     ]
    },
    {
     "name": "stdout",
     "output_type": "stream",
     "text": [
      "You inputted \"vds\".\n"
     ]
    },
    {
     "name": "stdin",
     "output_type": "stream",
     "text": [
      "Input any words(q to exit):  q\n"
     ]
    },
    {
     "name": "stdout",
     "output_type": "stream",
     "text": [
      "Exiting...\n"
     ]
    }
   ],
   "source": [
    "while True:\n",
    "    userInput = input(\"Input any words(q to exit): \")\n",
    "    if userInput.lower() == \"q\":\n",
    "        print(\"Exiting...\")\n",
    "        break\n",
    "    else:\n",
    "        print(f'You inputted \"{userInput}\".')\n"
   ]
  },
  {
   "cell_type": "code",
   "execution_count": 73,
   "id": "9437d042-d3d7-46cd-a02c-d21e2ff2c65c",
   "metadata": {},
   "outputs": [
    {
     "name": "stdout",
     "output_type": "stream",
     "text": [
      "1\n",
      "2\n",
      "4\n",
      "5\n",
      "7\n",
      "8\n",
      "10\n",
      "11\n",
      "13\n",
      "14\n",
      "16\n",
      "17\n",
      "19\n",
      "20\n",
      "22\n",
      "23\n",
      "25\n",
      "26\n",
      "28\n",
      "29\n",
      "31\n",
      "32\n",
      "34\n",
      "35\n",
      "37\n",
      "38\n",
      "40\n",
      "41\n",
      "43\n",
      "44\n",
      "46\n",
      "47\n",
      "49\n"
     ]
    }
   ],
   "source": [
    "for i in range(1, 50):\n",
    "    if i % 3 == 0:\n",
    "        continue\n",
    "    print(i)"
   ]
  },
  {
   "cell_type": "markdown",
   "id": "c783de84-b9bc-4d2f-be23-a0b00283d793",
   "metadata": {},
   "source": [
    "# REVIEW EXERCISES #5\n",
    "\n",
    "____"
   ]
  },
  {
   "cell_type": "code",
   "execution_count": 5,
   "id": "35fad048-707e-4faf-86b3-a0b0e9da1440",
   "metadata": {},
   "outputs": [
    {
     "name": "stdin",
     "output_type": "stream",
     "text": [
      "Enter an integer:  a\n"
     ]
    },
    {
     "name": "stdout",
     "output_type": "stream",
     "text": [
      "Try again. That was not an integer.\n"
     ]
    },
    {
     "name": "stdin",
     "output_type": "stream",
     "text": [
      "Enter an integer:  a\n"
     ]
    },
    {
     "name": "stdout",
     "output_type": "stream",
     "text": [
      "Try again. That was not an integer.\n"
     ]
    },
    {
     "name": "stdin",
     "output_type": "stream",
     "text": [
      "Enter an integer:  sf\n"
     ]
    },
    {
     "name": "stdout",
     "output_type": "stream",
     "text": [
      "Try again. That was not an integer.\n"
     ]
    },
    {
     "name": "stdin",
     "output_type": "stream",
     "text": [
      "Enter an integer:  2\n"
     ]
    },
    {
     "name": "stdout",
     "output_type": "stream",
     "text": [
      "You entered: 2\n"
     ]
    }
   ],
   "source": [
    "while True:\n",
    "    try:\n",
    "        number = int(input(\"Enter an integer: \"))\n",
    "        print(\"You entered:\", number)\n",
    "        break\n",
    "    except ValueError:\n",
    "        print(\"Try again. That was not an integer.\")"
   ]
  },
  {
   "cell_type": "code",
   "execution_count": 6,
   "id": "4b9f111f-9fc4-4585-bcc3-59fdb14f9482",
   "metadata": {},
   "outputs": [
    {
     "name": "stdin",
     "output_type": "stream",
     "text": [
      "Enter a string:  I want to sleep\n",
      "Enter an index:  5\n"
     ]
    },
    {
     "name": "stdout",
     "output_type": "stream",
     "text": [
      "Character at index 5 is: t\n"
     ]
    }
   ],
   "source": [
    "text = input(\"Enter a string: \")\n",
    "n = int(input(\"Enter an index: \"))\n",
    "\n",
    "if 0 <= n < len(text):\n",
    "    print(\"Character at index\", n, \"is:\", text[n])\n",
    "else:\n",
    "    print(\"Invalid index. String length is\", len(text))"
   ]
  },
  {
   "cell_type": "markdown",
   "id": "4308d05d-7330-4d8a-9f00-72165d25fefc",
   "metadata": {},
   "source": [
    "# REVIEW EXERCISES #6\n",
    "\n",
    "____"
   ]
  },
  {
   "cell_type": "code",
   "execution_count": 9,
   "id": "2eb21e38-3f69-4b2e-b947-8a50387037c2",
   "metadata": {},
   "outputs": [],
   "source": [
    "import random\n",
    "def roll():\n",
    "    return random.randint(1, 6)"
   ]
  },
  {
   "cell_type": "code",
   "execution_count": 13,
   "id": "54329fc5-85a6-4656-9a37-b4f1ba9c207a",
   "metadata": {},
   "outputs": [
    {
     "name": "stdout",
     "output_type": "stream",
     "text": [
      "Average number rolled after 10000 rolls is: 3.5112\n"
     ]
    }
   ],
   "source": [
    "total = 0\n",
    "rolls = 10000\n",
    "\n",
    "for _ in range(rolls):\n",
    "    total += roll()\n",
    "\n",
    "average = total / rolls\n",
    "print(\"Average number rolled after\", rolls, \"rolls is:\", average)"
   ]
  },
  {
   "cell_type": "markdown",
   "id": "1b8cdac2-d9d6-4bc7-ba6a-d4c7f726df32",
   "metadata": {},
   "source": [
    "# CHALLENGE: SIMULATE AN ELECTION\n",
    "\n",
    "____"
   ]
  },
  {
   "cell_type": "code",
   "execution_count": 14,
   "id": "958f06f2-538b-460f-868d-5c9870d3d68c",
   "metadata": {},
   "outputs": [
    {
     "name": "stdout",
     "output_type": "stream",
     "text": [
      "Election Results by Region:\n",
      "Region 1: Candidate A\n",
      "Region 2: Candidate A\n",
      "Region 3: Candidate B\n",
      "\n",
      "Overall Winner: Candidate A\n"
     ]
    }
   ],
   "source": [
    "import random\n",
    "\n",
    "def simulate_election():\n",
    "    chances = {\n",
    "        \"Region 1\": 0.87,\n",
    "        \"Region 2\": 0.65,\n",
    "        \"Region 3\": 0.17\n",
    "    }\n",
    "    \n",
    "    results = {}\n",
    "    a_wins = 0\n",
    "    b_wins = 0\n",
    "    \n",
    "    # Simulate each region\n",
    "    for region, chance in chances.items():\n",
    "        if random.random() < chance:\n",
    "            results[region] = \"Candidate A\"\n",
    "            a_wins += 1\n",
    "        else:\n",
    "            results[region] = \"Candidate B\"\n",
    "            b_wins += 1\n",
    "\n",
    "    if a_wins > b_wins:\n",
    "        winner = \"Candidate A\"\n",
    "    else:\n",
    "        winner = \"Candidate B\"\n",
    "    \n",
    "    return results, winner\n",
    "\n",
    "results, winner = simulate_election()\n",
    "\n",
    "print(\"Election Results by Region:\")\n",
    "for region, result in results.items():\n",
    "    print(f\"{region}: {result}\")\n",
    "\n",
    "print(f\"\\nOverall Winner: {winner}\")"
   ]
  }
 ],
 "metadata": {
  "kernelspec": {
   "display_name": "Python [conda env:myenv]",
   "language": "python",
   "name": "conda-env-myenv-py"
  },
  "language_info": {
   "codemirror_mode": {
    "name": "ipython",
    "version": 3
   },
   "file_extension": ".py",
   "mimetype": "text/x-python",
   "name": "python",
   "nbconvert_exporter": "python",
   "pygments_lexer": "ipython3",
   "version": "3.10.18"
  }
 },
 "nbformat": 4,
 "nbformat_minor": 5
}
