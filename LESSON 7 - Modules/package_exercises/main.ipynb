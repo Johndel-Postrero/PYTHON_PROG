{
 "cells": [
  {
   "cell_type": "code",
   "execution_count": 2,
   "id": "26c06874-ea07-4fbe-813c-baeff4f8a10b",
   "metadata": {},
   "outputs": [
    {
     "name": "stdout",
     "output_type": "stream",
     "text": [
      "THE AREA OF A 5-BY-8 RECTANGLE IS 40\n"
     ]
    }
   ],
   "source": [
    "from helpers.string import shout\n",
    "from helpers.math import area\n",
    "\n",
    "length = 5\n",
    "width = 8\n",
    "result = area(length, width)\n",
    "\n",
    "message = f\"The area of a {length}-by-{width} rectangle is {result}\"\n",
    "print(shout(message))"
   ]
  }
 ],
 "metadata": {
  "kernelspec": {
   "display_name": "Python [conda env:myenv]",
   "language": "python",
   "name": "conda-env-myenv-py"
  },
  "language_info": {
   "codemirror_mode": {
    "name": "ipython",
    "version": 3
   },
   "file_extension": ".py",
   "mimetype": "text/x-python",
   "name": "python",
   "nbconvert_exporter": "python",
   "pygments_lexer": "ipython3",
   "version": "3.10.18"
  }
 },
 "nbformat": 4,
 "nbformat_minor": 5
}
