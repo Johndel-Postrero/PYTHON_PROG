{
 "cells": [
  {
   "cell_type": "markdown",
   "id": "0a39d0cb-a01b-4ddd-b8e1-115e1921634a",
   "metadata": {},
   "source": [
    "# MIDTERM EXAM 10-23-25\n",
    "# Johndel Postrero ID:21411277\n",
    "____"
   ]
  },
  {
   "cell_type": "markdown",
   "id": "25a873a7-22d9-4624-8c37-ba204dec5351",
   "metadata": {},
   "source": [
    "<span style=\"font-size: 20px;\">**Q1. String Normalizer & Finder.**</span>\n"
   ]
  },
  {
   "cell_type": "markdown",
   "id": "6f73864a-dd0f-49b5-807f-846111751644",
   "metadata": {},
   "source": [
    "**Task:** Write a function normalize_and_find(text: str, needle: str) -> int that: (1) trims whitespace on both ends, (2) converts to lowercase, then (3) returns the index of the first occurrence of needle using a safe search (return −1 if not found). Discuss alternatives (find vs. index), and how your choice affects error handling. Anchor concepts: stripping, case conversion, find/replace, string immutability. Reference: :contentReference[oaicite:6]index=6"
   ]
  },
  {
   "cell_type": "markdown",
   "id": "e6e1592e-99d6-4d1e-bbaf-72f3f09fd786",
   "metadata": {},
   "source": [
    "**Prompt**\n",
    "\n",
    "Write a Python function normalize_and_find(text, needle) that trims spaces from both sides, \n",
    "converts the text to lowercase, and returns the index of the first occurrence of the second string. \n",
    "Return -1 if not found."
   ]
  },
  {
   "cell_type": "markdown",
   "id": "761ac97a-cd9a-4863-95c3-082726d1c4bb",
   "metadata": {},
   "source": [
    "**ChatGPT Code**"
   ]
  },
  {
   "cell_type": "code",
   "execution_count": 5,
   "id": "fab8332d-7b97-4f33-a754-b8e2c190702d",
   "metadata": {},
   "outputs": [
    {
     "name": "stdout",
     "output_type": "stream",
     "text": [
      "6\n",
      "-1\n"
     ]
    }
   ],
   "source": [
    "def normalize_and_find(text, needle):\n",
    "    text = text.strip().lower()\n",
    "    needle = needle.lower()\n",
    "    try:\n",
    "        return text.index(needle)\n",
    "    except ValueError:\n",
    "        return -1\n",
    "\n",
    "print(normalize_and_find(\"   Hello World!   \", \"world\"))\n",
    "print(normalize_and_find(\"Python Programming\", \"java\"))"
   ]
  },
  {
   "cell_type": "markdown",
   "id": "8ceb7ccd-ccd9-4138-84ed-1c944e4146bd",
   "metadata": {},
   "source": [
    "**Critique**\n",
    "\n",
    "1. Correctness - Works as intended but uses .index() with try/except instead of .find(), which Lecture 1 (Strings) advises for safer substring searching.\n",
    "2. Complexity - Runs in O(n) time and O(1) space, consistent with string iteration efficiency discussed in Lecture 1.\n",
    "3. Robustness - Handles missing substrings with exceptions but lacks basic input checks, which Lecture 4 (Conditionals & Error Handling) recommends adding.\n",
    "4. Readability / Style - Function lacks a docstring and explanatory comments, which Lecture 3 (Functions & Loops) emphasizes for clarity.\n",
    "5. Faithfulness to Lectures - Not fully aligned and it should use .find() and minimal, clean code structure following Lecture 1 style."
   ]
  },
  {
   "cell_type": "markdown",
   "id": "de4c7514-5a76-4f19-bdf6-77133ffdc3b0",
   "metadata": {},
   "source": [
    "**Improved Code**"
   ]
  },
  {
   "cell_type": "code",
   "execution_count": 22,
   "id": "3128f5d3-bcd5-4777-a3be-75df12246ade",
   "metadata": {},
   "outputs": [
    {
     "name": "stdout",
     "output_type": "stream",
     "text": [
      "7\n",
      "3\n",
      "-1\n",
      "3\n"
     ]
    }
   ],
   "source": [
    "def normalize_and_find(text: str, needle: str) -> int:\n",
    "    \n",
    "    text = text.strip().lower()\n",
    "    needle = needle.strip().lower()\n",
    "    \n",
    "    # Use .find() - gikan sa LESSON 1\n",
    "    return text.find(needle)\n",
    "\n",
    "\n",
    "# --- SAMPLE ---\n",
    "print(normalize_and_find(\"   Wassup mga Dawg   \", \"mga\"))\n",
    "print(normalize_and_find(\"   WELCOME ninyo   \", \"come\"))\n",
    "print(normalize_and_find(\"abc\", \"xyz\"))\n",
    "print(normalize_and_find(\"   HELLO  \", \"lo\"))"
   ]
  },
  {
   "cell_type": "markdown",
   "id": "dd0e79a1-5f11-4299-aa93-f75f3b20eff8",
   "metadata": {},
   "source": [
    "___\n",
    "<span style=\"font-size: 20px;\">**Q2. Leetspeak Translator (Parametric).**</span>\n"
   ]
  },
  {
   "attachments": {},
   "cell_type": "markdown",
   "id": "e81ba76f-2020-4f7f-b881-45bcce4a7119",
   "metadata": {},
   "source": [
    "**Task:** Generalize our leetspeak idea: write translate(text: str, mapping: dict[str,str]) -> str that applies a mapping (e.g., {’a’:’4’,’e’:’3’,...}) over lowercase letters only, leaving others unchanged. Explain why strings are immutable and show an efficient approach (e.g., list join vs. repeated concatenation). Anchor concepts: replace, iteration strategies, efficiency. Reference: :contentReference[oaicite:7]index=7"
   ]
  },
  {
   "cell_type": "markdown",
   "id": "f67c832a-aa2a-4fd1-86ed-37a035879d30",
   "metadata": {},
   "source": [
    "**Prompt**\n",
    "\n",
    "Write a function translate(text, mapping) that replaces characters in a string based on a dictionary.\n",
    "Only lowercase letters should be replaced, and other characters should remain the same.\n",
    "Return the new translated string. Use a sample mapping like {'a':'4','e':'3','l':'1','o':'0'}."
   ]
  },
  {
   "cell_type": "markdown",
   "id": "4fbe19f5-c382-4377-9cab-466166ef60af",
   "metadata": {},
   "source": [
    "**ChatGPT Code**"
   ]
  },
  {
   "cell_type": "code",
   "execution_count": 15,
   "id": "b749af10-7492-4984-8083-16c526b90cde",
   "metadata": {},
   "outputs": [
    {
     "name": "stdout",
     "output_type": "stream",
     "text": [
      "H3110 W0r1d\n"
     ]
    }
   ],
   "source": [
    "def translate(text, mapping):\n",
    "    result = \"\"\n",
    "    for ch in text:\n",
    "        if ch in mapping:\n",
    "            result += mapping[ch]\n",
    "        else:\n",
    "            result += ch\n",
    "    return result\n",
    "\n",
    "leet_map = {'a': '4', 'e': '3', 'l': '1', 'o': '0'}\n",
    "print(translate(\"Hello World\", leet_map))"
   ]
  },
  {
   "cell_type": "markdown",
   "id": "5405ee4f-9aa9-4fbe-b9b8-668afe09d4a7",
   "metadata": {},
   "source": [
    "**Critique**\n",
    "1. Correctness - The function correctly applies replacements, but repeated string concatenation is inefficient compared to the \".join()\" approach taught in Lecture 1 (Strings).\n",
    "2. Complexity - Time complexity is O(n), but due to string immutability, repeated concatenation creates new strings each time and not optimal as discussed in Lecture 1.\n",
    "3. Robustness - Works fine for lowercase letters but lacks input validation and error handling, which Lecture 4 (Conditionals & Error Handling) encourages.\n",
    "4. Readability / Style - Clear naming and structure, but lacks a docstring and type hints, which are encouraged in Lecture 3 (Functions).\n",
    "5. Faithfulness to Lectures - Should use a list accumulator and \".join()\" for efficiency as shown in Lecture 1 (String operations) and dictionary lookups from Lecture 5."
   ]
  },
  {
   "cell_type": "markdown",
   "id": "4daa269a-f771-434a-85cc-115fc73ef643",
   "metadata": {},
   "source": [
    "**Improved Code**"
   ]
  },
  {
   "cell_type": "code",
   "execution_count": 21,
   "id": "8352691e-a405-4ba2-94c9-31177dcbe421",
   "metadata": {},
   "outputs": [
    {
     "name": "stdout",
     "output_type": "stream",
     "text": [
      "H3110 mg4 guys\n",
      "w4ssup MGA d4wgsssss\n"
     ]
    }
   ],
   "source": [
    "def translate(text: str, mapping: dict[str, str]) -> str:\n",
    "    result_chars = []\n",
    "\n",
    "    for ch in text:\n",
    "        if ch in mapping:\n",
    "            result_chars.append(mapping[ch])\n",
    "        else:\n",
    "            result_chars.append(ch)\n",
    "    return \"\".join(result_chars)\n",
    "\n",
    "# --- SAMPLE ---\n",
    "leet_map = {'a': '4', 'e': '3', 'l': '1', 'o': '0'}\n",
    "print(translate(\"Hello mga guys\", leet_map))\n",
    "print(translate(\"wassup MGA dawgsssss\", leet_map))"
   ]
  },
  {
   "cell_type": "markdown",
   "id": "c9a6c9ab-3cb4-44b3-a880-2080bdf589ca",
   "metadata": {},
   "source": [
    "___\n",
    "<span style=\"font-size: 20px;\">**Q3. Currency Formatter & Rounding Ties-to-Even.**</span>\n"
   ]
  },
  {
   "cell_type": "markdown",
   "id": "a7d74777-b3ab-47d7-a6d2-4ac7b8b5247b",
   "metadata": {},
   "source": [
    "**Task:** Write fmt_money(x: float) -> str that returns a string like 1,234.50 using proper rounding (banker’s rounding / ties-to-even). Include test cases that demonstrate ties (e.g., 2.5, 3.5). Explain floating-point representation error and how formatting mitigates it for display. Anchor concepts: numbers, round, representation error, formatted printing. Reference: :contentReference[oaicite:8]index=8"
   ]
  },
  {
   "cell_type": "markdown",
   "id": "39e12a94-cd0d-4d00-8733-ed6e658c4a7e",
   "metadata": {},
   "source": [
    "**Prompt**\n",
    "\n",
    "Write a function fmt_money(x) that takes a float and returns a string formatted with commas and two decimals. \n",
    "Use banker’s rounding (round half to even). \n",
    "Include test cases for 2.5 and 3.5 and explain why rounding works this way in Python."
   ]
  },
  {
   "cell_type": "markdown",
   "id": "bb3b4639-2bd3-415c-8991-fa938934c32c",
   "metadata": {},
   "source": [
    "**ChatGPT Code**"
   ]
  },
  {
   "cell_type": "code",
   "execution_count": 51,
   "id": "dc4caaf4-ded2-45bf-aebf-389b6de41a2c",
   "metadata": {},
   "outputs": [
    {
     "name": "stdout",
     "output_type": "stream",
     "text": [
      "1,234.50\n",
      "2.50\n",
      "3.50\n"
     ]
    }
   ],
   "source": [
    "def fmt_money(x):\n",
    "    return f\"{round(x, 2):,.2f}\"\n",
    "\n",
    "print(fmt_money(1234.5))\n",
    "print(fmt_money(2.5))\n",
    "print(fmt_money(3.5))"
   ]
  },
  {
   "cell_type": "markdown",
   "id": "5c2510e1-f577-4f74-aca7-74ddf6f2e50b",
   "metadata": {},
   "source": [
    "**Critique**\n",
    "1. Correctness - Rounds correctly using Python's built-in banker's rounding as discussed in Lecture 2 (Numbers and Math).\n",
    "2. Complexity - O(1) since it uses a fixed number of operations, matching Lecture 2 examples.\n",
    "3. Robustness - Works well but lacks input validation or error handling (Lecture 4).\n",
    "4. Readability / Style - Concise but missing a docstring and clear comments (Lecture 3).\n",
    "5. Faithfulness to Lectures - Correct use of round() and formatted output as shown in Lecture 2 and Lecture 1."
   ]
  },
  {
   "cell_type": "markdown",
   "id": "9673d4c4-1ba4-4249-9b53-1c78de664024",
   "metadata": {},
   "source": [
    "**Improved Code**"
   ]
  },
  {
   "cell_type": "code",
   "execution_count": 55,
   "id": "b9e1a632-c6ba-44f7-981e-abe1f52315e0",
   "metadata": {},
   "outputs": [
    {
     "name": "stdout",
     "output_type": "stream",
     "text": [
      "1,234.50\n",
      "2.50\n",
      "3.50\n",
      "Error: Input must be a numeric value.\n",
      "-456.79\n",
      "Error: Input must be a numeric value.\n"
     ]
    }
   ],
   "source": [
    "def fmt_money(x) -> str:\n",
    "    if isinstance(x, (int, float)):\n",
    "        rounded_value = round(x, 2)\n",
    "        return f\"{rounded_value:,.2f}\"\n",
    "    else:\n",
    "        return \"Error: Input must be a numeric value.\"\n",
    "\n",
    "# --- SAMPLE ---\n",
    "print(fmt_money(1234.5))\n",
    "print(fmt_money(2.5))\n",
    "print(fmt_money(3.5))\n",
    "print(fmt_money(\"1000\"))\n",
    "print(fmt_money(-456.789))\n",
    "print(fmt_money([5, 10])) "
   ]
  },
  {
   "cell_type": "markdown",
   "id": "f21576ae-0297-413a-aa1d-f6a951e7fdc2",
   "metadata": {},
   "source": [
    "___\n",
    "<span style=\"font-size: 20px;\">**Q4. Exponent Tool & Input Validation.**</span>\n"
   ]
  },
  {
   "cell_type": "markdown",
   "id": "01ebd69f-33fe-40d8-88fc-d9431c3af801",
   "metadata": {},
   "source": [
    "**Task:** Create a CLI program exponent.py that reads two values, validates they are numeric, handles errors gracefully (e.g., ValueError), and prints a ** b with clear messages. Compare using try/except vs. pre-validation with str.isdigit() (and why isdigit() is insufficient for negatives/floats). Anchor concepts: arithmetic operators, exceptions, input. Reference: :contentReference[oaicite:9]index=9, :contentReference[oaicite:10]index=10"
   ]
  },
  {
   "cell_type": "markdown",
   "id": "9cec6067-bf8c-487f-bb74-f75a84b80111",
   "metadata": {},
   "source": [
    "**Prompt**\n",
    "\n",
    "Write a Python function exponent_tool(base, exp) that returns base raised to the power of exp. \n",
    "Use error handling to make sure the inputs are numbers. \n",
    "If not, print \"Invalid input\". \n",
    "Return the result if valid."
   ]
  },
  {
   "cell_type": "markdown",
   "id": "4d9ce560-6399-434a-9bb6-e8d7ad2e5b7d",
   "metadata": {},
   "source": [
    "**ChatGPT Code**"
   ]
  },
  {
   "cell_type": "code",
   "execution_count": 27,
   "id": "d087e3ef-2ed7-4989-a08e-2886000305ae",
   "metadata": {},
   "outputs": [
    {
     "name": "stdout",
     "output_type": "stream",
     "text": [
      "8.0\n",
      "Invalid input\n"
     ]
    }
   ],
   "source": [
    "def exponent_tool(base, exp):\n",
    "    try:\n",
    "        result = float(base) ** float(exp)\n",
    "        return result\n",
    "    except ValueError:\n",
    "        return \"Invalid input\"\n",
    "\n",
    "print(exponent_tool(2, 3))\n",
    "print(exponent_tool(\"a\", 2))"
   ]
  },
  {
   "cell_type": "markdown",
   "id": "bb47db05-1a27-4743-8d96-ce13effe6aff",
   "metadata": {},
   "source": [
    "**Critique**\n",
    "1. Correctness - Works but should also handle TypeError, as shown in Lecture 4 (Error Handling).\n",
    "2. Complexity - Runs in O(1), consistent with Lecture 2 (Numbers and Math).\n",
    "3. Robustness - Lacks full input validation recommended in Lecture 4.\n",
    "4. Readability / Style - Clear code but missing docstring and hints from Lecture 3 (Functions).\n",
    "5. Faithfulness to Lectures - Should follow Lecture 4 by handling multiple exceptions and showing a user-friendly message."
   ]
  },
  {
   "cell_type": "markdown",
   "id": "3b50b320-8813-4559-a783-fb1d0d273093",
   "metadata": {},
   "source": [
    "**Improved Code**"
   ]
  },
  {
   "cell_type": "code",
   "execution_count": 49,
   "id": "540d13a1-e34c-4c56-b627-4e2f96fd3439",
   "metadata": {},
   "outputs": [
    {
     "name": "stdout",
     "output_type": "stream",
     "text": [
      "Enter the base:  5\n",
      "Enter the exponent:  2\n"
     ]
    },
    {
     "name": "stdout",
     "output_type": "stream",
     "text": [
      "\n",
      "Result: 5 ** 2 = 25.0\n",
      "\n",
      "Checking with str.isdigit():\n",
      "Both inputs are digits. But isdigit() fails for negatives or floats (e.g., -3, 2.5).\n",
      "\n",
      "Explanation: isdigit() returns False for inputs like '-2' or '3.5', so try/except with float() is more reliable.\n"
     ]
    }
   ],
   "source": [
    "def exponent_program() -> None:\n",
    "    # --- Try/Except ---\n",
    "    try:\n",
    "        base = input(\"Enter the base: \")\n",
    "        exp = input(\"Enter the exponent: \")\n",
    "\n",
    "        result = float(base) ** float(exp)\n",
    "        print(f\"\\nResult: {base} ** {exp} = {result}\")\n",
    "    except ValueError:\n",
    "        print(\"\\nError: Invalid input. Please enter numeric values only.\")\n",
    "\n",
    "    # --- isdigit() ---\n",
    "    print(\"\\nChecking with str.isdigit():\")\n",
    "    if base.isdigit() and exp.isdigit():\n",
    "        print(\"Both inputs are digits. But isdigit() fails for negatives or floats (e.g., -3, 2.5).\")\n",
    "    else:\n",
    "        print(\"isdigit() check shows one or both inputs are not pure digits.\")\n",
    "\n",
    "    print(\"\\nExplanation: isdigit() returns False for inputs like '-2' or '3.5', \"\n",
    "          \"so try/except with float() is more reliable.\")\n",
    "\n",
    "\n",
    "# --- SAMPLE ---\n",
    "if __name__ == \"__main__\":\n",
    "    exponent_program()\n"
   ]
  },
  {
   "cell_type": "markdown",
   "id": "d9a79560-ede8-4aea-81dd-d24d2740c6c3",
   "metadata": {},
   "source": [
    "___\n",
    "<span style=\"font-size: 20px;\">**Q5. Password Policy Checker (If/Elif/Else + Loops).**</span>\n"
   ]
  },
  {
   "cell_type": "markdown",
   "id": "f8aca111-d01a-4c26-a753-d001bd095b94",
   "metadata": {},
   "source": [
    "**Task:** Implement check_password(pw: str) -> dict that validates: length ≥ 10, at least one uppercase, one lowercase, one digit, one symbol in !@#$%^&*, and no spaces. Return a dict of booleans per rule and an overall pass/fail. Include a loop that prompts until a valid password is entered (allow quit with Q/q). Anchor concepts: conditionals, logical operators, loops, break/continue. Reference: :contentReference[oaicite:11]index=11"
   ]
  },
  {
   "cell_type": "markdown",
   "id": "91839b3c-9f44-491b-a515-6864095d2f36",
   "metadata": {},
   "source": [
    "**Prompt**\n",
    "\n",
    "Write a function check_password(pw) that checks multiple password rules:\n",
    "length ≥ 10, one uppercase, one lowercase, one digit, one symbol from !@#$%^&*, and no spaces.\n",
    "Return a dictionary showing which rules passed and if the password is valid overall.\n",
    "Use a loop to keep asking for input until a valid password is entered or user quits with Q/q."
   ]
  },
  {
   "cell_type": "markdown",
   "id": "a50654c5-0309-44e2-970b-8e6a86acacbd",
   "metadata": {},
   "source": [
    "**ChatGPT Code**"
   ]
  },
  {
   "cell_type": "code",
   "execution_count": 42,
   "id": "beae6243-373b-473a-85b0-df86067f7b32",
   "metadata": {},
   "outputs": [
    {
     "name": "stdout",
     "output_type": "stream",
     "text": [
      "Enter password (Q to quit):  wass\n"
     ]
    },
    {
     "name": "stdout",
     "output_type": "stream",
     "text": [
      "{'length': False, 'uppercase': False, 'lowercase': True, 'digit': False, 'symbol': False, 'no_space': True, 'valid': False}\n",
      "Invalid password, try again.\n"
     ]
    },
    {
     "name": "stdout",
     "output_type": "stream",
     "text": [
      "Enter password (Q to quit):  Wassap@123\n"
     ]
    },
    {
     "name": "stdout",
     "output_type": "stream",
     "text": [
      "{'length': True, 'uppercase': True, 'lowercase': True, 'digit': True, 'symbol': True, 'no_space': True, 'valid': True}\n",
      "Password accepted.\n"
     ]
    }
   ],
   "source": [
    "def check_password(pw):\n",
    "    rules = {\n",
    "        \"length\": len(pw) >= 10,\n",
    "        \"uppercase\": any(c.isupper() for c in pw),\n",
    "        \"lowercase\": any(c.islower() for c in pw),\n",
    "        \"digit\": any(c.isdigit() for c in pw),\n",
    "        \"symbol\": any(c in \"!@#$%^&*\" for c in pw),\n",
    "        \"no_space\": \" \" not in pw\n",
    "    }\n",
    "    rules[\"valid\"] = all(rules.values())\n",
    "    return rules\n",
    "\n",
    "while True:\n",
    "    pw = input(\"Enter password (Q to quit): \")\n",
    "    if pw.lower() == \"q\":\n",
    "        break\n",
    "    result = check_password(pw)\n",
    "    print(result)\n",
    "    if result[\"valid\"]:\n",
    "        print(\"Password accepted.\")\n",
    "        break\n",
    "    else:\n",
    "        print(\"Invalid password, try again.\")"
   ]
  },
  {
   "cell_type": "markdown",
   "id": "a1aa86ca-0e06-41be-81b0-250060b806fe",
   "metadata": {},
   "source": [
    "**Critique**\n",
    "1. Correctness - Checks all conditions accurately, consistent with Lecture 4 (Conditionals).\n",
    "2. Complexity - Runs in O(n) time, matching string iteration from Lecture 1 (Strings).\n",
    "3. Robustness - No handling for empty or non-string inputs, which Lecture 4 recommends validating.\n",
    "4. Readability / Style - Code is clean but should include docstring and hints, per Lecture 3 (Functions).\n",
    "5. Faithfulness to Lectures - Logic aligns with Lecture 4 examples using if statements and string methods."
   ]
  },
  {
   "cell_type": "markdown",
   "id": "f26f7dc1-5208-4829-b9e1-7133b4f0322f",
   "metadata": {},
   "source": [
    "**Improved Code**"
   ]
  },
  {
   "cell_type": "code",
   "execution_count": 48,
   "id": "87eb9e8c-4abe-497f-b98c-ee7d4a7dc83c",
   "metadata": {},
   "outputs": [
    {
     "name": "stdout",
     "output_type": "stream",
     "text": [
      "Enter password (Q to quit):  njsvea\n"
     ]
    },
    {
     "name": "stdout",
     "output_type": "stream",
     "text": [
      "\n",
      "Password Check Results:\n",
      "Length (>=10): False\n",
      "Has Uppercase: False\n",
      "Has Lowercase: True\n",
      "Has Digit: False\n",
      "Has Symbol: False\n",
      "No Spaces: True\n",
      "Valid Password: False\n",
      "\n",
      "Password not accepted. Try again.\n",
      "\n"
     ]
    },
    {
     "name": "stdout",
     "output_type": "stream",
     "text": [
      "Enter password (Q to quit):  Wassap@12345\n"
     ]
    },
    {
     "name": "stdout",
     "output_type": "stream",
     "text": [
      "\n",
      "Password Check Results:\n",
      "Length (>=10): True\n",
      "Has Uppercase: True\n",
      "Has Lowercase: True\n",
      "Has Digit: True\n",
      "Has Symbol: True\n",
      "No Spaces: True\n",
      "Valid Password: True\n",
      "\n",
      "Password accepted.\n",
      "\n"
     ]
    }
   ],
   "source": [
    "def check_password(pw: str) -> dict:\n",
    "    rules = {\n",
    "        \"length\": len(pw) >= 10,\n",
    "        \"uppercase\": any(ch.isupper() for ch in pw),\n",
    "        \"lowercase\": any(ch.islower() for ch in pw),\n",
    "        \"digit\": any(ch.isdigit() for ch in pw),\n",
    "        \"symbol\": any(ch in \"!@#$%^&*\" for ch in pw),\n",
    "        \"no_space\": \" \" not in pw\n",
    "    }\n",
    "    rules[\"valid\"] = all(rules.values())\n",
    "    return rules\n",
    "\n",
    "\n",
    "# --- MAIN LOOP ---\n",
    "while True:\n",
    "    pw = input(\"Enter password (Q to quit): \")\n",
    "    if pw.lower() == \"q\":\n",
    "        print(\"Exiting password checker.\")\n",
    "        break\n",
    "\n",
    "    result = check_password(pw)\n",
    "    print(\"\\nPassword Check Results:\")\n",
    "    print(f\"Length (>=10): {result['length']}\")\n",
    "    print(f\"Has Uppercase: {result['uppercase']}\")\n",
    "    print(f\"Has Lowercase: {result['lowercase']}\")\n",
    "    print(f\"Has Digit: {result['digit']}\")\n",
    "    print(f\"Has Symbol: {result['symbol']}\")\n",
    "    print(f\"No Spaces: {result['no_space']}\")\n",
    "    print(f\"Valid Password: {result['valid']}\")\n",
    "\n",
    "    if result[\"valid\"]:\n",
    "        print(\"\\nPassword accepted.\\n\")\n",
    "        break\n",
    "    else:\n",
    "        print(\"\\nPassword not accepted. Try again.\\n\")"
   ]
  },
  {
   "cell_type": "markdown",
   "id": "15fc66fc-440e-48a9-8717-3459e92976e7",
   "metadata": {},
   "source": [
    "___\n",
    "<span style=\"font-size: 20px;\">**Q6. Dice Simulation (Monte Carlo).**</span>\n"
   ]
  },
  {
   "cell_type": "markdown",
   "id": "285b696a-ed5e-4be6-a138-932db5c05f8a",
   "metadata": {},
   "source": [
    "**Task:** Write roll() -> int to simulate a fair die, then simulate 100,000 rolls to estimate the probability that the sum of two dice equals 7. Compare empirical result to the exact probability. Comment on random seeding and reproducibility. Anchor concepts: random module, simulation, averages. Reference: :contentReference[oaicite:12]index=12"
   ]
  },
  {
   "cell_type": "markdown",
   "id": "2f7be4db-4e19-4532-9844-578a683fabc3",
   "metadata": {},
   "source": [
    "**Prompt**\n",
    "\n",
    "Write a function roll() that simulates a fair die returning a random number from 1 to 6. \n",
    "Then simulate rolling two dice 100,000 times and estimate the probability that their sum equals 7. \n",
    "Compare it to the exact probability 6/36 = 1/6."
   ]
  },
  {
   "cell_type": "markdown",
   "id": "d1605746-33d1-4b49-9be6-223efa32fab1",
   "metadata": {},
   "source": [
    "**ChatGPT Code**"
   ]
  },
  {
   "cell_type": "code",
   "execution_count": 40,
   "id": "b340dd1e-fea4-4a3b-8e77-9d1662550f9f",
   "metadata": {},
   "outputs": [
    {
     "name": "stdout",
     "output_type": "stream",
     "text": [
      "Empirical probability: 0.16543\n",
      "Exact probability: 0.16666666666666666\n"
     ]
    }
   ],
   "source": [
    "import random\n",
    "\n",
    "def roll():\n",
    "    return random.randint(1, 6)\n",
    "\n",
    "def simulate():\n",
    "    count = 0\n",
    "    trials = 100000\n",
    "    for _ in range(trials):\n",
    "        if roll() + roll() == 7:\n",
    "            count += 1\n",
    "    probability = count / trials\n",
    "    print(\"Empirical probability:\", probability)\n",
    "    print(\"Exact probability:\", 1/6)\n",
    "\n",
    "simulate()"
   ]
  },
  {
   "cell_type": "markdown",
   "id": "5237402f-6371-4bca-8cb5-1212eefb9aba",
   "metadata": {},
   "source": [
    "**Critique**\n",
    "1. Correctness - Generates valid dice rolls using randint(1, 6) which matches Lecture 7 (Modules and Packages).\n",
    "2. Complexity - Runs in O(1) since it performs a fixed number of operations, consistent with Lecture 3 examples.\n",
    "3. Robustness - No error handling, but not required here since inputs are not user-provided (Lecture 4).\n",
    "4. Readability / Style - Clear and simple, though a short docstring could improve clarity (Lecture 3: Functions).\n",
    "5. Faithfulness to Lectures - Uses the random module exactly as demonstrated in Lecture 7 (Modules and Packages)."
   ]
  },
  {
   "cell_type": "markdown",
   "id": "8b62393e-1fe2-4401-9e71-6f226fe9f732",
   "metadata": {},
   "source": [
    "**Improved Code**"
   ]
  },
  {
   "cell_type": "code",
   "execution_count": 39,
   "id": "60e3d876-63c6-4dfd-aa17-287f69e15c7a",
   "metadata": {},
   "outputs": [
    {
     "name": "stdout",
     "output_type": "stream",
     "text": [
      "Empirical probability: 0.16456\n",
      "Exact probability: 0.16667\n",
      "The difference between the two is 0.00211\n"
     ]
    }
   ],
   "source": [
    "import random\n",
    "\n",
    "def roll() -> int:\n",
    "    return random.randint(1, 6)\n",
    "\n",
    "\n",
    "def simulate_dice_rolls(trials: int = 100000) -> None:\n",
    "    random.seed(42)\n",
    "\n",
    "    count = 0\n",
    "    for _ in range(trials):\n",
    "        if roll() + roll() == 7:\n",
    "            count += 1\n",
    "\n",
    "    empirical = count / trials\n",
    "    exact = 1 / 6\n",
    "    difference = abs(empirical - exact)\n",
    "\n",
    "    print(f\"Empirical probability: {empirical:.5f}\")\n",
    "    print(f\"Exact probability: {exact:.5f}\")\n",
    "    print(f\"The difference between the two is {difference:.5f}\")\n",
    "\n",
    "# --- SAMPLE ---\n",
    "simulate_dice_rolls()"
   ]
  },
  {
   "cell_type": "markdown",
   "id": "b7a81ce7-f23f-4941-ad51-af1ef93ca7f0",
   "metadata": {},
   "source": [
    "___\n",
    "<span style=\"font-size: 20px;\">**Q7. OOP: Vehicles with Odometer and Fuel.**</span>\n"
   ]
  },
  {
   "cell_type": "markdown",
   "id": "3b9ec9ec-3b75-47b0-bae2-bbc9e74b6504",
   "metadata": {},
   "source": [
    "**Task:** Design classes Vehicle (base), Car and Truck (children). Each has color, mileage, and fuel_liters. Provide drive(km, km_per_liter) which increments mileage and decreases fuel (never below 0) and refuel(liters). Show how inheritance avoids duplication and add a method override in Truck (e.g., different efficiency). Include a minimal test script. Anchor concepts: classes vs. instances, attributes, instance methods, inheritance/override. Reference: :contentReference[oaicite:13]index=13"
   ]
  },
  {
   "cell_type": "markdown",
   "id": "4b5ba21d-a52d-416d-9e01-1c7a8f2ead22",
   "metadata": {},
   "source": [
    "**Prompt**\n",
    "\n",
    "Write a Vehicle class with color, mileage, and fuel. \n",
    "Add drive(km, km_per_liter) to update mileage and fuel, and refuel(liters). \n",
    "Create Car and Truck classes that inherit from Vehicle, where Truck overrides drive() for lower efficiency."
   ]
  },
  {
   "cell_type": "markdown",
   "id": "267e674a-1b12-40d9-b28b-f00d24c1159c",
   "metadata": {},
   "source": [
    "**ChatGPT Code**"
   ]
  },
  {
   "cell_type": "code",
   "execution_count": 58,
   "id": "481e3b94-210e-4a87-92ce-222bb5141750",
   "metadata": {},
   "outputs": [
    {
     "name": "stdout",
     "output_type": "stream",
     "text": [
      "Car mileage: 12100, fuel left: 40.0\n",
      "Truck mileage: 8100, fuel left: 87.5\n"
     ]
    }
   ],
   "source": [
    "class Vehicle:\n",
    "    def __init__(self, color, mileage, fuel_liters):\n",
    "        self.color = color\n",
    "        self.mileage = mileage\n",
    "        self.fuel_liters = fuel_liters\n",
    "\n",
    "    def drive(self, km, km_per_liter):\n",
    "        fuel_needed = km / km_per_liter\n",
    "        if fuel_needed <= self.fuel_liters:\n",
    "            self.mileage += km\n",
    "            self.fuel_liters -= fuel_needed\n",
    "        else:\n",
    "            self.mileage += self.fuel_liters * km_per_liter\n",
    "            self.fuel_liters = 0\n",
    "\n",
    "    def refuel(self, liters):\n",
    "        self.fuel_liters += liters\n",
    "\n",
    "\n",
    "class Car(Vehicle):\n",
    "    pass\n",
    "\n",
    "\n",
    "class Truck(Vehicle):\n",
    "    def drive(self, km, km_per_liter):\n",
    "        # Truck less efficient: 20% more fuel consumption\n",
    "        super().drive(km, km_per_liter * 0.8)\n",
    "\n",
    "\n",
    "# Test\n",
    "car = Car(\"Red\", 12000, 50)\n",
    "truck = Truck(\"Blue\", 8000, 100)\n",
    "\n",
    "car.drive(100, 10)\n",
    "truck.drive(100, 10)\n",
    "\n",
    "print(f\"Car mileage: {car.mileage}, fuel left: {car.fuel_liters}\")\n",
    "print(f\"Truck mileage: {truck.mileage}, fuel left: {truck.fuel_liters}\")"
   ]
  },
  {
   "cell_type": "markdown",
   "id": "7347c978-40d9-425c-a1f1-77ffe21ee21c",
   "metadata": {},
   "source": [
    "**Critique**\n",
    "1. Correctness - Works as expected; correctly demonstrates inheritance and overriding (Lecture 6).\n",
    "2. Complexity - O(1) per operation, matching Lecture 6’s object method examples.\n",
    "3. Robustness - No error handling or type checks for invalid inputs (Lecture 4).\n",
    "4. Readability / Style - Clear but lacks docstrings and formatted output (Lecture 3).\n",
    "5. Faithfulness to Lectures - Properly applies OOP structure and method override taught in Lecture 6."
   ]
  },
  {
   "cell_type": "markdown",
   "id": "142be032-cb2e-421e-bc01-f2cf2ed9de10",
   "metadata": {},
   "source": [
    "**Improved Code**"
   ]
  },
  {
   "cell_type": "code",
   "execution_count": 56,
   "id": "de2e0f75-191b-44ba-920f-78f8b500307e",
   "metadata": {},
   "outputs": [
    {
     "name": "stdout",
     "output_type": "stream",
     "text": [
      "\n",
      "--- Initial States ---\n",
      "Car - Color: Red, Mileage: 12000, Fuel: 50\n",
      "Truck - Color: Blue, Mileage: 8000, Fuel: 100\n",
      "\n",
      "--- Driving ---\n",
      "Driven 100.0 km. Fuel left: 40.00 liters.\n",
      "Truck drive: applying 20% lower fuel efficiency.\n",
      "Driven 100.0 km. Fuel left: 87.50 liters.\n",
      "\n",
      "--- Refueling ---\n",
      "Refueled 20.0 liters. Total fuel: 60.0 liters.\n",
      "Refueled 30.0 liters. Total fuel: 117.5 liters.\n",
      "\n",
      "--- Final States ---\n",
      "Car - Mileage: 12100, Fuel left: 60.00\n",
      "Truck - Mileage: 8100, Fuel left: 117.50\n"
     ]
    }
   ],
   "source": [
    "class Vehicle:\n",
    "    def __init__(self, color: str, mileage: float, fuel_liters: float):\n",
    "        self.color = color\n",
    "        self.mileage = mileage\n",
    "        self.fuel_liters = fuel_liters\n",
    "\n",
    "    def drive(self, km: float, km_per_liter: float) -> None:\n",
    "        if km <= 0 or km_per_liter <= 0:\n",
    "            print(\"Error: Distance and efficiency must be positive values.\")\n",
    "            return\n",
    "\n",
    "        fuel_needed = km / km_per_liter\n",
    "        if fuel_needed > self.fuel_liters:\n",
    "            km = self.fuel_liters * km_per_liter  # Partial drive\n",
    "            self.fuel_liters = 0\n",
    "        else:\n",
    "            self.fuel_liters -= fuel_needed\n",
    "\n",
    "        self.mileage += km\n",
    "        print(f\"Driven {km:.1f} km. Fuel left: {self.fuel_liters:.2f} liters.\")\n",
    "\n",
    "    def refuel(self, liters: float) -> None:\n",
    "        if liters > 0:\n",
    "            self.fuel_liters += liters\n",
    "            print(f\"Refueled {liters:.1f} liters. Total fuel: {self.fuel_liters:.1f} liters.\")\n",
    "        else:\n",
    "            print(\"Error: Refuel amount must be positive.\")\n",
    "\n",
    "class Car(Vehicle):\n",
    "    pass\n",
    "\n",
    "class Truck(Vehicle):\n",
    "    def drive(self, km: float, km_per_liter: float) -> None:\n",
    "        print(\"Truck drive: applying 20% lower fuel efficiency.\")\n",
    "        super().drive(km, km_per_liter * 0.8)\n",
    "\n",
    "# --- TESTINGAN ---\n",
    "car = Car(\"Red\", 12000, 50)\n",
    "truck = Truck(\"Blue\", 8000, 100)\n",
    "\n",
    "print(\"\\n--- Initial States ---\")\n",
    "print(f\"Car - Color: {car.color}, Mileage: {car.mileage}, Fuel: {car.fuel_liters}\")\n",
    "print(f\"Truck - Color: {truck.color}, Mileage: {truck.mileage}, Fuel: {truck.fuel_liters}\")\n",
    "\n",
    "print(\"\\n--- Driving ---\")\n",
    "car.drive(100, 10)\n",
    "truck.drive(100, 10)\n",
    "\n",
    "print(\"\\n--- Refueling ---\")\n",
    "car.refuel(20)\n",
    "truck.refuel(30)\n",
    "\n",
    "print(\"\\n--- Final States ---\")\n",
    "print(f\"Car - Mileage: {car.mileage}, Fuel left: {car.fuel_liters:.2f}\")\n",
    "print(f\"Truck - Mileage: {truck.mileage}, Fuel left: {truck.fuel_liters:.2f}\")\n"
   ]
  },
  {
   "cell_type": "markdown",
   "id": "7ce153e6-a067-4a65-94ee-cbd2fc4d9faf",
   "metadata": {},
   "source": [
    "___\n",
    "<span style=\"font-size: 20px;\">**Q8. OOP + Composition: Kennel with Dogs.**</span>\n"
   ]
  },
  {
   "cell_type": "markdown",
   "id": "c56f9ba6-9329-467f-8645-42d85f553fa4",
   "metadata": {},
   "source": [
    "**Task:** Using a Dog class (name, age, breed, bark()), implement a Kennel manager that holds multiple Dog instances, supports add_dog, remove_dog, oldest_dog(), and find_by_breed(breed). Compare composition vs. inheritance for this scenario. Anchor concepts: OOP design, managing collections of objects. Reference: :contentReference[oaicite:14]index=14"
   ]
  },
  {
   "cell_type": "markdown",
   "id": "b40df8fa-b72b-459f-b144-5d2935145b28",
   "metadata": {},
   "source": [
    "**Prompt**\n",
    "\n",
    "Create a Dog class with name, age, breed, and bark().\n",
    "Then create a Kennel class that contains multiple dogs.\n",
    "Add methods to add, remove, get the oldest dog, and find dogs by breed.\n",
    "Explain why this uses composition instead of inheritance."
   ]
  },
  {
   "cell_type": "markdown",
   "id": "91714e6b-40ff-4aa2-8f35-0ff65a851e21",
   "metadata": {},
   "source": [
    "**ChatGPT Code**"
   ]
  },
  {
   "cell_type": "code",
   "execution_count": 59,
   "id": "7cf2f88b-5c21-4d0e-933b-d260a98cb4cc",
   "metadata": {},
   "outputs": [
    {
     "name": "stdout",
     "output_type": "stream",
     "text": [
      "Rex\n",
      "Buddy\n",
      "Luna\n"
     ]
    }
   ],
   "source": [
    "class Dog:\n",
    "    def __init__(self, name, age, breed):\n",
    "        self.name = name\n",
    "        self.age = age\n",
    "        self.breed = breed\n",
    "\n",
    "    def bark(self):\n",
    "        print(f\"{self.name} says Woof!\")\n",
    "\n",
    "\n",
    "class Kennel:\n",
    "    def __init__(self):\n",
    "        self.dogs = []\n",
    "\n",
    "    def add_dog(self, dog):\n",
    "        self.dogs.append(dog)\n",
    "\n",
    "    def remove_dog(self, name):\n",
    "        self.dogs = [d for d in self.dogs if d.name != name]\n",
    "\n",
    "    def oldest_dog(self):\n",
    "        return max(self.dogs, key=lambda d: d.age, default=None)\n",
    "\n",
    "    def find_by_breed(self, breed):\n",
    "        return [d for d in self.dogs if d.breed.lower() == breed.lower()]\n",
    "\n",
    "\n",
    "# Test\n",
    "k = Kennel()\n",
    "k.add_dog(Dog(\"Buddy\", 5, \"Beagle\"))\n",
    "k.add_dog(Dog(\"Rex\", 8, \"German Shepherd\"))\n",
    "k.add_dog(Dog(\"Luna\", 3, \"Beagle\"))\n",
    "\n",
    "print(k.oldest_dog().name)\n",
    "for d in k.find_by_breed(\"Beagle\"):\n",
    "    print(d.name)"
   ]
  },
  {
   "cell_type": "markdown",
   "id": "67fccd8b-bff3-4cae-a203-ed4a62af4157",
   "metadata": {},
   "source": [
    "**Critique**\n",
    "1. Correctness - Works correctly for core tasks, following Lecture 6 OOP logic.\n",
    "2. Complexity - O(n) for searches/removals, which matches Lecture 5 examples using lists.\n",
    "3. Robustness - Lacks validation for empty kennel or invalid removals (Lecture 4).\n",
    "4. Readability / Style - Clear but missing comments and formatted output (Lecture 3).\n",
    "5. Faithfulness to Lectures - Implements composition properly instead of inheritance, consistent with Lecture 6."
   ]
  },
  {
   "cell_type": "markdown",
   "id": "60deda85-0918-441d-8211-73c3f54dd6c0",
   "metadata": {},
   "source": [
    "**Improved Code**"
   ]
  },
  {
   "cell_type": "code",
   "execution_count": 2,
   "id": "776d6ca6",
   "metadata": {},
   "outputs": [
    {
     "name": "stdout",
     "output_type": "stream",
     "text": [
      "Buddy has been added to Happy Paws.\n",
      "Rex has been added to Happy Paws.\n",
      "Luna has been added to Happy Paws.\n",
      "\n",
      "--- All Dogs ---\n",
      "Buddy (Beagle, 5 years old)\n",
      "Rex (German Shepherd, 8 years old)\n",
      "Luna (Beagle, 3 years old)\n",
      "\n",
      "--- Test Methods ---\n",
      "The oldest dog is Rex (German Shepherd, 8 years old).\n",
      "Dogs of breed 'Beagle': ['Buddy', 'Luna']\n",
      "Luna has been removed from Happy Paws.\n",
      "\n",
      "--- After Removal ---\n",
      "Buddy (Beagle, 5 years old)\n",
      "Rex (German Shepherd, 8 years old)\n"
     ]
    }
   ],
   "source": [
    "class Dog:\n",
    "    def __init__(self, name: str, age: int, breed: str):\n",
    "        self.name = name\n",
    "        self.age = age\n",
    "        self.breed = breed\n",
    "\n",
    "    def bark(self) -> None:\n",
    "        print(f\"{self.name} says: Woof! Woof!\")\n",
    "\n",
    "    def __str__(self) -> str:\n",
    "        return f\"{self.name} ({self.breed}, {self.age} years old)\"\n",
    "\n",
    "\n",
    "class Kennel:\n",
    "    def __init__(self, kennel_name: str):\n",
    "        self.kennel_name = kennel_name\n",
    "        self.dogs = []  # Lecture 5: Lists\n",
    "\n",
    "    def add_dog(self, dog: Dog) -> None:\n",
    "        if isinstance(dog, Dog):\n",
    "            self.dogs.append(dog)\n",
    "            print(f\"{dog.name} has been added to {self.kennel_name}.\")\n",
    "        else:\n",
    "            print(\"Error: Only Dog objects can be added.\")\n",
    "\n",
    "    def remove_dog(self, name: str) -> None:\n",
    "        for d in self.dogs:\n",
    "            if d.name.lower() == name.lower():\n",
    "                self.dogs.remove(d)\n",
    "                print(f\"{d.name} has been removed from {self.kennel_name}.\")\n",
    "                return\n",
    "        print(f\"No dog named {name} found.\")\n",
    "\n",
    "    def oldest_dog(self) -> Dog | None:\n",
    "        if not self.dogs:\n",
    "            print(\"No dogs in the kennel.\")\n",
    "            return None\n",
    "        oldest = max(self.dogs, key=lambda d: d.age)\n",
    "        print(f\"The oldest dog is {oldest}.\")\n",
    "        return oldest\n",
    "\n",
    "    def find_by_breed(self, breed: str) -> list[Dog]:\n",
    "        found = [d for d in self.dogs if d.breed.lower() == breed.lower()]\n",
    "        if found:\n",
    "            print(f\"Dogs of breed '{breed}': {[d.name for d in found]}\")\n",
    "        else:\n",
    "            print(f\"No dogs of breed '{breed}' found.\")\n",
    "        return found\n",
    "\n",
    "\n",
    "# --- TEST ---\n",
    "kennel = Kennel(\"Happy Paws\")\n",
    "\n",
    "kennel.add_dog(Dog(\"Buddy\", 5, \"Beagle\"))\n",
    "kennel.add_dog(Dog(\"Rex\", 8, \"German Shepherd\"))\n",
    "kennel.add_dog(Dog(\"Luna\", 3, \"Beagle\"))\n",
    "\n",
    "print(\"\\n--- All Dogs ---\")\n",
    "for dog in kennel.dogs:\n",
    "    print(dog)\n",
    "\n",
    "print(\"\\n--- Test Methods ---\")\n",
    "kennel.oldest_dog()\n",
    "kennel.find_by_breed(\"Beagle\")\n",
    "kennel.remove_dog(\"Luna\")\n",
    "\n",
    "print(\"\\n--- After Removal ---\")\n",
    "for dog in kennel.dogs:\n",
    "    print(dog)"
   ]
  },
  {
   "cell_type": "markdown",
   "id": "d8580182-f010-476c-800d-4a57e7f93cab",
   "metadata": {},
   "source": [
    "___\n",
    "<span style=\"font-size: 20px;\">**Q9. Modules and Packages: Helpers.**</span>\n"
   ]
  },
  {
   "cell_type": "markdown",
   "id": "2b6b9fd1-137e-4b96-94cc-b36da8de79e4",
   "metadata": {},
   "source": [
    "**Task:** Create a package helpers/ with modules string_utils.py (function shout(s) uppercases) and math_utils.py (function area(l,w)). Then a main.py that imports with both import ... as ... and from ... import .... Explain namespace collisions and why aliases help. Anchor concepts: modules, packages, import variations, namespaces. Reference: :contentReference[oaicite:15]index=15"
   ]
  },
  {
   "cell_type": "markdown",
   "id": "c376ac50-1d59-4750-92f4-2e0c8f5626c6",
   "metadata": {},
   "source": [
    "**Prompt**\n",
    "\n",
    "Create a helpers package containing two modules: \n",
    "string_utils.py with a shout(s) function that returns s.upper(), \n",
    "and math_utils.py with an area(l, w) function returning l * w. \n",
    "Write a main.py that imports these modules using both styles of import and demonstrates alias use."
   ]
  },
  {
   "cell_type": "markdown",
   "id": "0b837653-b991-4fd2-9061-ea02efcbc197",
   "metadata": {},
   "source": [
    "**ChatGPT Code**"
   ]
  },
  {
   "cell_type": "code",
   "execution_count": 5,
   "id": "6064d42a-68a8-40fd-838b-f7a47ab8be93",
   "metadata": {},
   "outputs": [
    {
     "name": "stdout",
     "output_type": "stream",
     "text": [
      "HELLO WORLD\n",
      "50\n"
     ]
    }
   ],
   "source": [
    "import helpers.string_utils as su\n",
    "from helpers.math_utils import area\n",
    "\n",
    "print(su.shout(\"hello world\"))\n",
    "print(area(5, 10))"
   ]
  },
  {
   "cell_type": "markdown",
   "id": "a84094c7-71b1-43cb-8581-e4372c8971ad",
   "metadata": {},
   "source": [
    "**Critique**\n",
    "1. Correctness - Works correctly for both import styles (Lecture 7).\n",
    "2. Complexity - O(1) operations, consistent with Lecture 2’s efficiency examples.\n",
    "3. Robustness - Lacks error handling for invalid parameters (Lecture 4).\n",
    "4. Readability / Style - Clear but missing docstrings and comments (Lecture 3).\n",
    "5. Faithfulness to Lectures - Demonstrates import as and from import usage per Lecture 7 but should also explain namespace collisions."
   ]
  },
  {
   "cell_type": "markdown",
   "id": "5e77b591-3b68-4b9c-bd7c-b02df3a9a216",
   "metadata": {},
   "source": [
    "**Improved Code**"
   ]
  },
  {
   "cell_type": "code",
   "execution_count": 3,
   "id": "79268198",
   "metadata": {},
   "outputs": [
    {
     "name": "stdout",
     "output_type": "stream",
     "text": [
      "--- MODULE & PACKAGE DEMO ---\n",
      "Using alias imports:\n",
      "su.shout('hello modules'): HELLO MODULES\n",
      "math_module.area(5, 10): 50\n",
      "\n",
      "Using direct imports (Style 2):\n",
      "shout('hello modules'): HELLO MODULES\n",
      "area(5, 10): 50\n"
     ]
    }
   ],
   "source": [
    "import helpers.string_utils as su\n",
    "import helpers.math_utils as math_module\n",
    "\n",
    "from helpers.string_utils import shout\n",
    "from helpers.math_utils import area\n",
    "\n",
    "def main() -> None:\n",
    "    print(\"--- MODULE & PACKAGE DEMO ---\")\n",
    "    text = \"hello modules\"\n",
    "\n",
    "    print(\"Using alias imports:\")\n",
    "    print(f\"su.shout('{text}'): {su.shout(text)}\")\n",
    "    print(f\"math_module.area(5, 10): {math_module.area(5, 10)}\")\n",
    "    \n",
    "    print(\"\\nUsing direct imports (Style 2):\")\n",
    "    print(f\"shout('{text}'): {shout(text)}\")\n",
    "    print(f\"area(5, 10): {area(5, 10)}\")\n",
    "\n",
    "if __name__ == \"__main__\":\n",
    "    main()"
   ]
  },
  {
   "cell_type": "markdown",
   "id": "8b43b321-dec1-401f-b1db-f25c22027a4b",
   "metadata": {},
   "source": [
    "___\n",
    "<span style=\"font-size: 20px;\">**Q10. Robust Temperature Converter (Functions + Exceptions).**</span>\n"
   ]
  },
  {
   "cell_type": "markdown",
   "id": "0033ba0e-9256-41de-aa1f-d08f16c2e191",
   "metadata": {},
   "source": [
    "**Task:** Write two functions: cel_to_far(c) and far_to_cel(f) with type hints and docstrings. Build a CLI that asks the user which direction to convert and validates input (gracefully handles bad entries). Include unit tests (doctest or simple asserts) covering typical and edge cases (e.g., -40). Anchor concepts: writing functions, control flow, input handling, testing."
   ]
  },
  {
   "cell_type": "markdown",
   "id": "02e2a142-a4d4-4418-be6f-b9924811ef5c",
   "metadata": {},
   "source": [
    "**Prompt**\n",
    "\n",
    "Write two conversion functions between Celsius and Fahrenheit.\n",
    "Ask the user which conversion they want to perform.\n",
    "Handle invalid input gracefully, and include tests for correctness."
   ]
  },
  {
   "cell_type": "markdown",
   "id": "1529d135-87bd-4cc5-882c-b63b6b9b8cbf",
   "metadata": {},
   "source": [
    "**ChatGPT Code**"
   ]
  },
  {
   "cell_type": "code",
   "execution_count": 6,
   "id": "e52b8c43-86bb-474d-a23f-b7479390f076",
   "metadata": {},
   "outputs": [
    {
     "name": "stdout",
     "output_type": "stream",
     "text": [
      "Convert to (C)elsius or (F)ahrenheit?  C\n",
      "Enter temperature:  130\n"
     ]
    },
    {
     "name": "stdout",
     "output_type": "stream",
     "text": [
      "54.44444444444444\n"
     ]
    }
   ],
   "source": [
    "def cel_to_far(c):\n",
    "    return (c * 9/5) + 32\n",
    "\n",
    "def far_to_cel(f):\n",
    "    return (f - 32) * 5/9\n",
    "\n",
    "choice = input(\"Convert to (C)elsius or (F)ahrenheit? \").lower()\n",
    "temp = float(input(\"Enter temperature: \"))\n",
    "\n",
    "if choice == \"f\":\n",
    "    print(cel_to_far(temp))\n",
    "else:\n",
    "    print(far_to_cel(temp))"
   ]
  },
  {
   "cell_type": "markdown",
   "id": "10795621-d16e-4521-95d7-ff9191801cee",
   "metadata": {},
   "source": [
    "**Critique**\n",
    "1. Correctness - Conversion formulas are accurate but no validation for invalid inputs (Lecture 4).\n",
    "2. Complexity - O(1), performing constant-time arithmetic (Lecture 2).\n",
    "3. Robustness - Crashes on invalid input; lacks try/except or control logic (Lecture 4).\n",
    "4. Readability / Style - Missing docstrings and type hints (Lecture 3).\n",
    "5. Faithfulness to Lectures - Follows function structure but misses error-handling and testing examples from Lecture 3 and 4."
   ]
  },
  {
   "cell_type": "markdown",
   "id": "cbd2586d-9dde-4d2e-97e8-bfaf347e0636",
   "metadata": {},
   "source": [
    "**Improved Code**"
   ]
  },
  {
   "cell_type": "code",
   "execution_count": 7,
   "id": "050b736a-5661-4ee5-b650-37d21b2951f8",
   "metadata": {},
   "outputs": [
    {
     "name": "stdout",
     "output_type": "stream",
     "text": [
      "Temperature Converter\n",
      "1 - Celsius to Fahrenheit\n",
      "2 - Fahrenheit to Celsius\n"
     ]
    },
    {
     "name": "stdout",
     "output_type": "stream",
     "text": [
      "Choose (1 or 2):  2\n",
      "Enter the temperature value:  300\n"
     ]
    },
    {
     "name": "stdout",
     "output_type": "stream",
     "text": [
      "300.0°F = 148.89°C\n"
     ]
    }
   ],
   "source": [
    "def cel_to_far(c: float) -> float:\n",
    "    return (c * 9/5) + 32\n",
    "\n",
    "\n",
    "def far_to_cel(f: float) -> float:\n",
    "    return (f - 32) * 5/9\n",
    "\n",
    "\n",
    "def main() -> None:\n",
    "    print(\"Temperature Converter\")\n",
    "    print(\"1 - Celsius to Fahrenheit\")\n",
    "    print(\"2 - Fahrenheit to Celsius\")\n",
    "\n",
    "    choice = input(\"Choose (1 or 2): \").strip()\n",
    "\n",
    "    if choice not in (\"1\", \"2\"):\n",
    "        print(\"Invalid choice. Please enter 1 or 2.\")\n",
    "        return\n",
    "\n",
    "    temp_input = input(\"Enter the temperature value: \").strip()\n",
    "    if not temp_input.replace(\"-\", \"\", 1).replace(\".\", \"\", 1).isdigit():\n",
    "        print(\"Error: Please enter a valid numeric value.\")\n",
    "        return\n",
    "\n",
    "    temp = float(temp_input)\n",
    "\n",
    "    if choice == \"1\":\n",
    "        result = cel_to_far(temp)\n",
    "        print(f\"{temp}°C = {result:.2f}°F\")\n",
    "    else:\n",
    "        result = far_to_cel(temp)\n",
    "        print(f\"{temp}°F = {result:.2f}°C\")\n",
    "\n",
    "\n",
    "# --- TESTINGAN ---\n",
    "assert cel_to_far(0) == 32.0\n",
    "assert cel_to_far(-40) == -40.0\n",
    "assert far_to_cel(32) == 0.0\n",
    "assert far_to_cel(-40) == -40.0\n",
    "assert round(far_to_cel(212), 2) == 100.0\n",
    "\n",
    "if __name__ == \"__main__\":\n",
    "    main()"
   ]
  }
 ],
 "metadata": {
  "kernelspec": {
   "display_name": "Python 3 (ipykernel)",
   "language": "python",
   "name": "python3"
  },
  "language_info": {
   "codemirror_mode": {
    "name": "ipython",
    "version": 3
   },
   "file_extension": ".py",
   "mimetype": "text/x-python",
   "name": "python",
   "nbconvert_exporter": "python",
   "pygments_lexer": "ipython3",
   "version": "3.10.18"
  }
 },
 "nbformat": 4,
 "nbformat_minor": 5
}
