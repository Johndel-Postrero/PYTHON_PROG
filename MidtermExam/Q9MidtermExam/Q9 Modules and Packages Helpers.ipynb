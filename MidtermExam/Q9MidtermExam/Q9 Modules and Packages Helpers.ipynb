{
 "cells": [
  {
   "cell_type": "markdown",
   "id": "ec6d1a67-c7b4-4f3a-9d0b-5ab4dc8ac494",
   "metadata": {},
   "source": [
    "# Q9 Modules and Packages: Helpers."
   ]
  },
  {
   "cell_type": "markdown",
   "id": "290ecb65-96fd-45a5-8b0d-9f551e6f81c3",
   "metadata": {},
   "source": [
    "**Task**\n",
    "\n",
    "Create a package helpers/ with modules string_utils.py (function shout(s) uppercases) and math_utils.py (function area(l,w)). Then a main.py that imports with both import ... as ... and from ... import .... Explain namespace collisions and why aliases help. Anchor concepts: modules, packages, import variations, namespaces. Reference: :contentReference[oaicite:15]index=15"
   ]
  },
  {
   "cell_type": "markdown",
   "id": "3a23d1ab-2827-4403-8062-ea8c23f22e11",
   "metadata": {},
   "source": [
    "**Prompt**\n",
    "\n",
    "Create a helpers package containing two modules: string_utils.py with a shout(s) function that returns s.upper(), and math_utils.py with an area(l, w) function returning l * w. Write a main.py that imports these modules using both styles of import and demonstrates alias use."
   ]
  },
  {
   "cell_type": "markdown",
   "id": "d98d76f0-3a4d-4d36-b3cc-586f71da5631",
   "metadata": {},
   "source": [
    "**Chatgpt code**"
   ]
  },
  {
   "cell_type": "code",
   "execution_count": 2,
   "id": "2162a645-96ee-470d-ba0f-995572af4846",
   "metadata": {},
   "outputs": [
    {
     "name": "stdout",
     "output_type": "stream",
     "text": [
      "hello world\n",
      "50\n"
     ]
    }
   ],
   "source": [
    "import sys\n",
    "sys.path.append(r\"C:\\Users\\Toshiba\\Documents\\PythonActivities\\Q9MidtermExam\")\n",
    "import helpers.string_utils as su\n",
    "\n",
    "from helpers.math_utils import area\n",
    "\n",
    "print(su.shout(\"hello world\"))\n",
    "print(area(5, 10))"
   ]
  },
  {
   "cell_type": "markdown",
   "id": "0f473c71-0253-4d9e-bd40-f793c99b4131",
   "metadata": {},
   "source": [
    "**Improved Code**"
   ]
  },
  {
   "cell_type": "code",
   "execution_count": 3,
   "id": "84b429a1-b4bd-4da8-ba1d-0ea3659fde98",
   "metadata": {},
   "outputs": [
    {
     "name": "stdout",
     "output_type": "stream",
     "text": [
      "--- MODULE & PACKAGE DEMO ---\n",
      "Using alias imports:\n",
      "su.shout('hello modules'): hello modules\n",
      "math_module.area(5, 10): 50\n",
      "\n",
      "Using direct imports (Style 2):\n",
      "shout('hello modules'): hello modules\n",
      "area(5, 10): 50\n"
     ]
    }
   ],
   "source": [
    "import helpers.string_utils as su\n",
    "import helpers.math_utils as math_module\n",
    "\n",
    "from helpers.string_utils import shout\n",
    "from helpers.math_utils import area\n",
    "\n",
    "def main() -> None:\n",
    "    print(\"--- MODULE & PACKAGE DEMO ---\")\n",
    "    text = \"hello modules\"\n",
    "\n",
    "    print(\"Using alias imports:\")\n",
    "    print(f\"su.shout('{text}'): {su.shout(text)}\")\n",
    "    print(f\"math_module.area(5, 10): {math_module.area(5, 10)}\")\n",
    "    \n",
    "    print(\"\\nUsing direct imports (Style 2):\")\n",
    "    print(f\"shout('{text}'): {shout(text)}\")\n",
    "    print(f\"area(5, 10): {area(5, 10)}\")\n",
    "\n",
    "if __name__ == \"__main__\":\n",
    "    main()"
   ]
  },
  {
   "cell_type": "code",
   "execution_count": null,
   "id": "e463ab27-50bb-46fd-8bf8-5adb0be4e4da",
   "metadata": {},
   "outputs": [],
   "source": []
  }
 ],
 "metadata": {
  "kernelspec": {
   "display_name": "Python [conda env:base] *",
   "language": "python",
   "name": "conda-base-py"
  },
  "language_info": {
   "codemirror_mode": {
    "name": "ipython",
    "version": 3
   },
   "file_extension": ".py",
   "mimetype": "text/x-python",
   "name": "python",
   "nbconvert_exporter": "python",
   "pygments_lexer": "ipython3",
   "version": "3.13.5"
  }
 },
 "nbformat": 4,
 "nbformat_minor": 5
}
