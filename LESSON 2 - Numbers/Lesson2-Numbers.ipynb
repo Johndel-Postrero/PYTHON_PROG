{
 "cells": [
  {
   "cell_type": "markdown",
   "id": "ae568aa8-8d98-4eeb-8ab2-674bc96dac22",
   "metadata": {},
   "source": [
    "# REVIEW QUESTION #1\n",
    "\n",
    "---"
   ]
  },
  {
   "cell_type": "code",
   "execution_count": 1,
   "id": "8e16565b-91ae-4061-97fc-0b962e938935",
   "metadata": {},
   "outputs": [
    {
     "name": "stdout",
     "output_type": "stream",
     "text": [
      "25000000\n",
      "25000000\n"
     ]
    }
   ],
   "source": [
    "# 1.) Write a script that creates the two variables, num1 and num2. Both num1 and num2 should be assigned the integer literal 25,000,000, one written with underscored and one without. Print num1 and num2 on two separate lines.\n",
    "num1 = 25_000_000\n",
    "num2 = 25000000\n",
    "print(num1)\n",
    "print(num1)"
   ]
  },
  {
   "cell_type": "code",
   "execution_count": 2,
   "id": "81e41e9b-7aa2-41df-bf4a-12ad4eecba39",
   "metadata": {},
   "outputs": [
    {
     "name": "stdout",
     "output_type": "stream",
     "text": [
      "175000.0\n"
     ]
    }
   ],
   "source": [
    "# 2.) Write a script that assigns the floating-point literal 175000.0 to the variable num using exponential notation, and then prints num\n",
    "num = 1.75e5\n",
    "print(num)"
   ]
  },
  {
   "cell_type": "code",
   "execution_count": 3,
   "id": "8a203bef-b699-4aa5-bf0e-a5d50f086f30",
   "metadata": {
    "scrolled": true
   },
   "outputs": [
    {
     "name": "stdout",
     "output_type": "stream",
     "text": [
      "2e+307\n",
      "inf\n"
     ]
    }
   ],
   "source": [
    "# 3.) Try and find the smallest exponent N so that 2e<N>, where <N> is replaced with your number, returns inf.\n",
    "print(2e307)\n",
    "print(2e308)"
   ]
  },
  {
   "cell_type": "markdown",
   "id": "1df48e62-1b12-41ee-b082-fe82c85e04f3",
   "metadata": {},
   "source": [
    "# REVIEW QUESTION #2\n",
    "\n",
    "---"
   ]
  },
  {
   "cell_type": "code",
   "execution_count": 4,
   "id": "7d7258a2-6e6e-4e73-b152-13d72eb3f450",
   "metadata": {},
   "outputs": [
    {
     "name": "stdin",
     "output_type": "stream",
     "text": [
      "Enter a base: 5\n",
      "Enter an exponent: 2\n"
     ]
    },
    {
     "name": "stdout",
     "output_type": "stream",
     "text": [
      "5.0 to the power of 2.0 = 25.0\n"
     ]
    }
   ],
   "source": [
    "# Write a script called exponent.py that receives two numbers from the user and displays the first number raised to the power of the second number.\n",
    "userInput1 = float(input(\"Enter a base:\"))\n",
    "userInput2 = float(input(\"Enter an exponent:\"))\n",
    "result = userInput1 ** userInput2\n",
    "print(f\"{userInput1} to the power of {userInput2} = {result}\" )\n"
   ]
  },
  {
   "cell_type": "markdown",
   "id": "7fe0bff1-82f6-4a01-9481-1c7afb59e0b0",
   "metadata": {},
   "source": [
    "# REVIEW QUESTION #3\n",
    "\n",
    "---"
   ]
  },
  {
   "cell_type": "code",
   "execution_count": null,
   "id": "8ddc5574-4071-449f-a5e5-39d13619f190",
   "metadata": {},
   "outputs": [],
   "source": [
    "# 1.) Write a script that asks the user to input a number and then displays that number rounded to two decimal places.\n",
    "userInput = float(input(\"Enter a number:\"))\n",
    "print(f\"{userInput} rounded to 2 decimal places is {round(userInput, 2)}\")"
   ]
  },
  {
   "cell_type": "code",
   "execution_count": 16,
   "id": "4e083459-b28a-4c6e-aa28-feab41092042",
   "metadata": {},
   "outputs": [
    {
     "name": "stdin",
     "output_type": "stream",
     "text": [
      "Enter a number: -10\n"
     ]
    },
    {
     "name": "stdout",
     "output_type": "stream",
     "text": [
      "The absolute value of -10 is 10.0\n"
     ]
    }
   ],
   "source": [
    "# 2.) Write a script that asks the user to input a number and then displays the absolute value of that number\n",
    "userInput = float(input(\"Enter a number:\"))\n",
    "print(f\"The absolute value of -10 is {abs(userInput)}\")"
   ]
  },
  {
   "cell_type": "markdown",
   "id": "11c1427a-c632-419d-a597-70f58161d445",
   "metadata": {},
   "source": [
    "# REVIEW QUESTION #4\n",
    "\n",
    "---"
   ]
  },
  {
   "cell_type": "code",
   "execution_count": 28,
   "id": "5e5674b4-34b4-400e-8049-13511bd3d5e5",
   "metadata": {},
   "outputs": [
    {
     "name": "stdin",
     "output_type": "stream",
     "text": [
      "Enter a number: .5\n",
      "Enter another number: 1.5\n"
     ]
    },
    {
     "name": "stdout",
     "output_type": "stream",
     "text": [
      "The difference between 0.5 and 1.5 is an integer? True!\n"
     ]
    }
   ],
   "source": [
    "'''\n",
    "Write a script that asks the user to input two numbers by using the\n",
    "input() function twice, then display whether or not the difference\n",
    "between those two number is an integer.\n",
    "'''\n",
    "userInput1 = float(input(\"Enter a number:\"))\n",
    "userInput2 = float(input(\"Enter another number:\"))\n",
    "difference = userInput1 - userInput2 # if ganahan always positive ang ereturn kay pwede butngan abs()\n",
    "print(f\"The difference between {userInput1} and {userInput2} is an integer? {difference.is_integer()}!\")"
   ]
  },
  {
   "cell_type": "markdown",
   "id": "03d272a3-f267-40df-8955-7f2c0f9863a8",
   "metadata": {},
   "source": [
    "# REVIEW QUESTION #5\n",
    "\n",
    "---"
   ]
  },
  {
   "cell_type": "code",
   "execution_count": 33,
   "id": "97860146-7c9d-43f4-a618-aeb5cec9c2b4",
   "metadata": {},
   "outputs": [
    {
     "name": "stdout",
     "output_type": "stream",
     "text": [
      "1.147\n"
     ]
    }
   ],
   "source": [
    "# 1.) Print the result of the calculation 3 ** .125 as a fixed-point number with three decimal places\n",
    "result = 3 ** .125\n",
    "print(f\"{result:.3f}\")"
   ]
  },
  {
   "cell_type": "code",
   "execution_count": 34,
   "id": "b3c62351-f9ab-4786-9bd1-170bad5e4451",
   "metadata": {},
   "outputs": [
    {
     "name": "stdout",
     "output_type": "stream",
     "text": [
      "150,000.00\n"
     ]
    }
   ],
   "source": [
    "# 2.) Print the result of the calculation 3 ** .125 as a fixed-point number with three decimal places\n",
    "print(f\"{150000:,.2f}\")"
   ]
  },
  {
   "cell_type": "code",
   "execution_count": 36,
   "id": "f4f3f537-701f-4fe6-bfe6-21e2454f09f7",
   "metadata": {},
   "outputs": [
    {
     "name": "stdout",
     "output_type": "stream",
     "text": [
      "20%\n"
     ]
    }
   ],
   "source": [
    "# 3.) Print the result of 2 / 10 as a percentage with no decimal places. The output should look like 20%.\n",
    "print(f\"{2/10:.0%}\")"
   ]
  }
 ],
 "metadata": {
  "kernelspec": {
   "display_name": "Python 3 (ipykernel)",
   "language": "python",
   "name": "python3"
  },
  "language_info": {
   "codemirror_mode": {
    "name": "ipython",
    "version": 3
   },
   "file_extension": ".py",
   "mimetype": "text/x-python",
   "name": "python",
   "nbconvert_exporter": "python",
   "pygments_lexer": "ipython3",
   "version": "3.13.5"
  }
 },
 "nbformat": 4,
 "nbformat_minor": 5
}
