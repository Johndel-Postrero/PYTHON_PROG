{
 "cells": [
  {
   "cell_type": "markdown",
   "id": "ae568aa8-8d98-4eeb-8ab2-674bc96dac22",
   "metadata": {},
   "source": [
    "# REVIEW QUESTION #1\n",
    "\n",
    "---"
   ]
  },
  {
   "cell_type": "code",
   "execution_count": 4,
   "id": "8e16565b-91ae-4061-97fc-0b962e938935",
   "metadata": {},
   "outputs": [
    {
     "name": "stdout",
     "output_type": "stream",
     "text": [
      "25000000\n",
      "25000000\n"
     ]
    }
   ],
   "source": [
    "num1 = 25_000_000\n",
    "num2 = 25000000\n",
    "print(num1)\n",
    "print(num1)"
   ]
  },
  {
   "cell_type": "code",
   "execution_count": 5,
   "id": "81e41e9b-7aa2-41df-bf4a-12ad4eecba39",
   "metadata": {},
   "outputs": [
    {
     "name": "stdout",
     "output_type": "stream",
     "text": [
      "175000.0\n"
     ]
    }
   ],
   "source": [
    "num = 1.75e5\n",
    "print(num)"
   ]
  },
  {
   "cell_type": "code",
   "execution_count": 7,
   "id": "8a203bef-b699-4aa5-bf0e-a5d50f086f30",
   "metadata": {},
   "outputs": [
    {
     "name": "stdout",
     "output_type": "stream",
     "text": [
      "2e+307\n",
      "inf\n"
     ]
    }
   ],
   "source": [
    "print(2e307)\n",
    "print(2e308)"
   ]
  },
  {
   "cell_type": "markdown",
   "id": "1df48e62-1b12-41ee-b082-fe82c85e04f3",
   "metadata": {},
   "source": [
    "# REVIEW QUESTION #2\n",
    "\n",
    "---"
   ]
  },
  {
   "cell_type": "code",
   "execution_count": 11,
   "id": "7d7258a2-6e6e-4e73-b152-13d72eb3f450",
   "metadata": {},
   "outputs": [
    {
     "name": "stdin",
     "output_type": "stream",
     "text": [
      "Enter a base: 1.2\n",
      "Enter an exponent: 3\n"
     ]
    },
    {
     "name": "stdout",
     "output_type": "stream",
     "text": [
      "1.2 to the power of 3.0 = 1.7279999999999998\n"
     ]
    }
   ],
   "source": [
    "userInput1 = float(input(\"Enter a base:\"))\n",
    "userInput2 = float(input(\"Enter an exponent:\"))\n",
    "result = userInput1 ** userInput2\n",
    "print(f\"{userInput1} to the power of {userInput2} = {result}\" )\n"
   ]
  },
  {
   "cell_type": "markdown",
   "id": "7fe0bff1-82f6-4a01-9481-1c7afb59e0b0",
   "metadata": {},
   "source": [
    "# REVIEW QUESTION #3\n",
    "\n",
    "---"
   ]
  },
  {
   "cell_type": "code",
   "execution_count": 15,
   "id": "8ddc5574-4071-449f-a5e5-39d13619f190",
   "metadata": {},
   "outputs": [
    {
     "name": "stdin",
     "output_type": "stream",
     "text": [
      "Enter a number: 1.1256\n"
     ]
    },
    {
     "name": "stdout",
     "output_type": "stream",
     "text": [
      "1.1256 rounded to 2 decimal places is 1.13\n"
     ]
    }
   ],
   "source": [
    "userInput = float(input(\"Enter a number:\"))\n",
    "print(f\"{userInput} rounded to 2 decimal places is {round(userInput, 2)}\")"
   ]
  },
  {
   "cell_type": "code",
   "execution_count": 16,
   "id": "4e083459-b28a-4c6e-aa28-feab41092042",
   "metadata": {},
   "outputs": [
    {
     "name": "stdin",
     "output_type": "stream",
     "text": [
      "Enter a number: -10\n"
     ]
    },
    {
     "name": "stdout",
     "output_type": "stream",
     "text": [
      "The absolute value of -10 is 10.0\n"
     ]
    }
   ],
   "source": [
    "userInput = float(input(\"Enter a number:\"))\n",
    "print(f\"The absolute value of -10 is {abs(userInput)}\")"
   ]
  },
  {
   "cell_type": "markdown",
   "id": "11c1427a-c632-419d-a597-70f58161d445",
   "metadata": {},
   "source": [
    "# REVIEW QUESTION #4\n",
    "\n",
    "---"
   ]
  },
  {
   "cell_type": "code",
   "execution_count": 28,
   "id": "5e5674b4-34b4-400e-8049-13511bd3d5e5",
   "metadata": {},
   "outputs": [
    {
     "name": "stdin",
     "output_type": "stream",
     "text": [
      "Enter a number: .5\n",
      "Enter another number: 1.5\n"
     ]
    },
    {
     "name": "stdout",
     "output_type": "stream",
     "text": [
      "The difference between 0.5 and 1.5 is an integer? True!\n"
     ]
    }
   ],
   "source": [
    "userInput1 = float(input(\"Enter a number:\"))\n",
    "userInput2 = float(input(\"Enter another number:\"))\n",
    "difference = userInput1 - userInput2 # if ganahan always positive ang ereturn kay pwede butngan abs()\n",
    "print(f\"The difference between {userInput1} and {userInput2} is an integer? {difference.is_integer()}!\")"
   ]
  },
  {
   "cell_type": "markdown",
   "id": "03d272a3-f267-40df-8955-7f2c0f9863a8",
   "metadata": {},
   "source": [
    "# REVIEW QUESTION #5\n",
    "\n",
    "---"
   ]
  },
  {
   "cell_type": "code",
   "execution_count": 33,
   "id": "97860146-7c9d-43f4-a618-aeb5cec9c2b4",
   "metadata": {},
   "outputs": [
    {
     "name": "stdout",
     "output_type": "stream",
     "text": [
      "1.147\n"
     ]
    }
   ],
   "source": [
    "result = 3 ** .125\n",
    "print(f\"{result:.3f}\")"
   ]
  },
  {
   "cell_type": "code",
   "execution_count": 34,
   "id": "b3c62351-f9ab-4786-9bd1-170bad5e4451",
   "metadata": {},
   "outputs": [
    {
     "name": "stdout",
     "output_type": "stream",
     "text": [
      "150,000.00\n"
     ]
    }
   ],
   "source": [
    "print(f\"{150000:,.2f}\")"
   ]
  },
  {
   "cell_type": "code",
   "execution_count": 36,
   "id": "f4f3f537-701f-4fe6-bfe6-21e2454f09f7",
   "metadata": {},
   "outputs": [
    {
     "name": "stdout",
     "output_type": "stream",
     "text": [
      "20%\n"
     ]
    }
   ],
   "source": [
    "print(f\"{2/10:.0%}\")"
   ]
  }
 ],
 "metadata": {
  "kernelspec": {
   "display_name": "Python [conda env:myenv]",
   "language": "python",
   "name": "conda-env-myenv-py"
  },
  "language_info": {
   "codemirror_mode": {
    "name": "ipython",
    "version": 3
   },
   "file_extension": ".py",
   "mimetype": "text/x-python",
   "name": "python",
   "nbconvert_exporter": "python",
   "pygments_lexer": "ipython3",
   "version": "3.10.18"
  }
 },
 "nbformat": 4,
 "nbformat_minor": 5
}
