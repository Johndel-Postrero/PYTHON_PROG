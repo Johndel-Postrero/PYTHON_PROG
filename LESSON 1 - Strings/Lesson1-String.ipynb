{
 "cells": [
  {
   "cell_type": "markdown",
   "id": "81e4aa17-ffe4-4889-93b8-691a31d8e1e4",
   "metadata": {},
   "source": [
    "# REVIEW QUESTION #1\n",
    "\n",
    "--------"
   ]
  },
  {
   "cell_type": "code",
   "execution_count": 21,
   "id": "b954b07d-a39d-4662-98e7-16a1bcd2159c",
   "metadata": {},
   "outputs": [
    {
     "name": "stdout",
     "output_type": "stream",
     "text": [
      "The length of the string 14\n"
     ]
    }
   ],
   "source": [
    "myString = \"Good Afternoon\"\n",
    "length = len(myString)\n",
    "print('The length of the string', length)"
   ]
  },
  {
   "cell_type": "code",
   "execution_count": 22,
   "id": "6f4b18af-388e-4153-88a7-6c3de0690685",
   "metadata": {},
   "outputs": [
    {
     "name": "stdout",
     "output_type": "stream",
     "text": [
      "My name is Johndel\n"
     ]
    }
   ],
   "source": [
    "string1 = \"John\"\n",
    "string2 = \"del\"\n",
    "magic_string = string1 + string2\n",
    "print(\"My name is\", magic_string)"
   ]
  },
  {
   "cell_type": "code",
   "execution_count": 23,
   "id": "6a7e61d8-e21c-4cab-bbae-959fb54ffd66",
   "metadata": {},
   "outputs": [
    {
     "name": "stdout",
     "output_type": "stream",
     "text": [
      "My name fullname is Johndel Postrero\n"
     ]
    }
   ],
   "source": [
    "string1 = \"Johndel\"\n",
    "string2 = \"Postrero\"\n",
    "magic_string = string1 + \" \" + string2\n",
    "print(\"My name fullname is\", magic_string)"
   ]
  },
  {
   "cell_type": "code",
   "execution_count": 24,
   "id": "eebf1612-03aa-4d87-be8f-998e9bf1663f",
   "metadata": {},
   "outputs": [
    {
     "name": "stdout",
     "output_type": "stream",
     "text": [
      "fox\n"
     ]
    }
   ],
   "source": [
    "phrase = \"The quick brown fox jumped over the lazy dog. #1234567890!\"\n",
    "result = phrase[16:19]\n",
    "print(result)"
   ]
  },
  {
   "cell_type": "markdown",
   "id": "cef4e753-5457-49ff-8646-dd86a8b7f130",
   "metadata": {},
   "source": [
    "# REVIEW QUESTION #2\n",
    "\n",
    "-----"
   ]
  },
  {
   "cell_type": "code",
   "execution_count": 27,
   "id": "18965761-91b3-4606-9261-450addf31f57",
   "metadata": {},
   "outputs": [
    {
     "name": "stdout",
     "output_type": "stream",
     "text": [
      "animals\n",
      "badger\n",
      "honey bee\n",
      "honeybadger\n"
     ]
    }
   ],
   "source": [
    "str1 = \"Animals\"\n",
    "str2 = \"Badger\"\n",
    "str3 = \"Honey Bee\"\n",
    "str4 = \"HoneyBadger\"\n",
    "print(str1.lower())\n",
    "print(str2.lower())\n",
    "print(str3.lower())\n",
    "print(str4.lower())"
   ]
  },
  {
   "cell_type": "code",
   "execution_count": 28,
   "id": "c3ecd454-4b63-43a7-ac6f-b03ba1edf378",
   "metadata": {},
   "outputs": [
    {
     "name": "stdout",
     "output_type": "stream",
     "text": [
      "ANIMALS\n",
      "BADGER\n",
      "HONEY BEE\n",
      "HONEYBADGER\n"
     ]
    }
   ],
   "source": [
    "str1 = \"Animals\"\n",
    "str2 = \"Badger\"\n",
    "str3 = \"Honey Bee\"\n",
    "str4 = \"HoneyBadger\"\n",
    "print(str1.upper())\n",
    "print(str2.upper())\n",
    "print(str3.upper())\n",
    "print(str4.upper())"
   ]
  },
  {
   "cell_type": "code",
   "execution_count": 36,
   "id": "2ece480d-e376-473c-9d1c-166716700fd0",
   "metadata": {},
   "outputs": [
    {
     "name": "stdout",
     "output_type": "stream",
     "text": [
      "Filet Mignon\n",
      "Brisket\n"
     ]
    }
   ],
   "source": [
    "string1 =\" Filet Mignon\"\n",
    "string2 = \"Brisket \"\n",
    "print(string1.strip())\n",
    "print(string2.strip())"
   ]
  },
  {
   "cell_type": "code",
   "execution_count": 37,
   "id": "3fe82ecb-52b0-4dae-b0e7-f87c87db7820",
   "metadata": {},
   "outputs": [
    {
     "name": "stdout",
     "output_type": "stream",
     "text": [
      "False\n",
      "True\n"
     ]
    }
   ],
   "source": [
    "string1 = \"Becomes\"\n",
    "string2 = \"becomes\"\n",
    "print(string1.startswith(\"be\"))\n",
    "print(string2.startswith(\"be\"))"
   ]
  },
  {
   "cell_type": "code",
   "execution_count": 44,
   "id": "bc1f6b00-56fc-404c-b9c6-89824c6850b3",
   "metadata": {},
   "outputs": [
    {
     "name": "stdout",
     "output_type": "stream",
     "text": [
      "True\n",
      "True\n"
     ]
    }
   ],
   "source": [
    "string1 = \"Becomes\"\n",
    "string2 = \"becomes\"\n",
    "string1 = string1.lower()\n",
    "print(string1.startswith(\"be\"))\n",
    "print(string2.startswith(\"be\"))"
   ]
  },
  {
   "cell_type": "markdown",
   "id": "35ba4fbf-8a9e-491a-88f1-7a9ba17ff68e",
   "metadata": {},
   "source": [
    "# REVIEW QUESTION #3\n",
    "\n",
    "---"
   ]
  },
  {
   "cell_type": "code",
   "execution_count": 53,
   "id": "72fdc3d5-7c72-4b60-aff1-fee8833509db",
   "metadata": {},
   "outputs": [
    {
     "name": "stdin",
     "output_type": "stream",
     "text": [
      "Input a text: Hello\n"
     ]
    },
    {
     "name": "stdout",
     "output_type": "stream",
     "text": [
      "The inputted text is: Hello\n"
     ]
    }
   ],
   "source": [
    "userInput = input(\"Input a text:\")\n",
    "print(\"The inputted text is:\", userInput)"
   ]
  },
  {
   "cell_type": "code",
   "execution_count": 52,
   "id": "fe8f527a-6e1a-4043-a3e3-f8a7175bc937",
   "metadata": {},
   "outputs": [
    {
     "name": "stdin",
     "output_type": "stream",
     "text": [
      "Input a text: JNSDJKBVGR\n"
     ]
    },
    {
     "name": "stdout",
     "output_type": "stream",
     "text": [
      "The inputted text is: jnsdjkbvgr\n"
     ]
    }
   ],
   "source": [
    "userInput = input(\"Input a text:\")\n",
    "userInput = userInput.lower()\n",
    "print(\"The inputted text is:\", userInput)"
   ]
  },
  {
   "cell_type": "code",
   "execution_count": 55,
   "id": "8b233011-530a-42a4-a8f8-7d85a897508b",
   "metadata": {},
   "outputs": [
    {
     "name": "stdin",
     "output_type": "stream",
     "text": [
      "Input a text: jsginmer\n"
     ]
    },
    {
     "name": "stdout",
     "output_type": "stream",
     "text": [
      "The inputted text is: 8\n"
     ]
    }
   ],
   "source": [
    "userInput = input(\"Input a text:\")\n",
    "userInput = len(userInput)\n",
    "print(\"The inputted text is:\", userInput)"
   ]
  },
  {
   "cell_type": "markdown",
   "id": "cba724f7-6c71-408e-a378-19c66c77691b",
   "metadata": {},
   "source": [
    "# REVIEW QUESTION #3\n",
    "\n",
    "----"
   ]
  },
  {
   "cell_type": "code",
   "execution_count": 8,
   "id": "f4b33a86-d856-4616-bcf2-1eb7f39bb87c",
   "metadata": {},
   "outputs": [
    {
     "name": "stdin",
     "output_type": "stream",
     "text": [
      "Tell me your name: eaf\n"
     ]
    },
    {
     "name": "stdout",
     "output_type": "stream",
     "text": [
      "Your name is Eaf\n"
     ]
    }
   ],
   "source": [
    "userInput = input(\"Tell me your name:\")\n",
    "userInput = userInput[0].upper() + userInput[1:]\n",
    "print(\"Your name is\", userInput)"
   ]
  },
  {
   "cell_type": "markdown",
   "id": "bfcd8d5e-b051-43e7-898c-9ebb10f5bfc5",
   "metadata": {},
   "source": [
    "# REVIEW QUESTION #5\n",
    "\n",
    "----"
   ]
  },
  {
   "cell_type": "code",
   "execution_count": 13,
   "id": "14a5c107-0812-4372-b726-40a55d289946",
   "metadata": {},
   "outputs": [
    {
     "name": "stdout",
     "output_type": "stream",
     "text": [
      "100\n"
     ]
    }
   ],
   "source": [
    "num1 = '20'\n",
    "num1 = int(num1)\n",
    "num2 = 5\n",
    "print(num1 * num2)"
   ]
  },
  {
   "cell_type": "code",
   "execution_count": 15,
   "id": "b9ea1383-770e-49b5-8c19-6d424fdcf154",
   "metadata": {},
   "outputs": [
    {
     "name": "stdout",
     "output_type": "stream",
     "text": [
      "100.0\n"
     ]
    }
   ],
   "source": [
    "num1 = '20.0'\n",
    "num1 = float(num1)\n",
    "num2 = 5\n",
    "print(num1 * num2)"
   ]
  },
  {
   "cell_type": "code",
   "execution_count": 21,
   "id": "8852088d-e6c2-40cd-967e-426776c711b1",
   "metadata": {},
   "outputs": [
    {
     "name": "stdout",
     "output_type": "stream",
     "text": [
      "I am 20 years old\n"
     ]
    }
   ],
   "source": [
    "str1 = 'I am'\n",
    "num1 = 20\n",
    "print(str1 + \" \" + str(num1) + \" years old\")"
   ]
  },
  {
   "cell_type": "code",
   "execution_count": 31,
   "id": "ac3777fa-2f70-4c1c-bbcc-e2c595f5a778",
   "metadata": {},
   "outputs": [
    {
     "name": "stdin",
     "output_type": "stream",
     "text": [
      "Input the first number: 23\n",
      "Input the second number: 2\n"
     ]
    },
    {
     "name": "stdout",
     "output_type": "stream",
     "text": [
      "The product is: 46\n"
     ]
    }
   ],
   "source": [
    "userInput1 = input(\"Input the first number:\")\n",
    "userInput2 = input(\"Input the second number:\")\n",
    "product = int(userInput1) * int(userInput2)\n",
    "print(\"The product is:\", product)"
   ]
  },
  {
   "cell_type": "markdown",
   "id": "d6975e5b-b41f-41dd-a28c-b04616360e57",
   "metadata": {},
   "source": [
    "# REVIEW QUESTION #6\n",
    "\n",
    "---"
   ]
  },
  {
   "cell_type": "code",
   "execution_count": 32,
   "id": "e808ec53-2d56-4ebe-846b-c28726f9e9d7",
   "metadata": {},
   "outputs": [
    {
     "data": {
      "text/plain": [
       "-1"
      ]
     },
     "execution_count": 32,
     "metadata": {},
     "output_type": "execute_result"
    }
   ],
   "source": [
    "word = \"AAA\"\n",
    "word.find(\"a\")"
   ]
  },
  {
   "cell_type": "code",
   "execution_count": 34,
   "id": "b8270739-319a-46c2-b3f0-19e4f8b0236e",
   "metadata": {},
   "outputs": [
    {
     "data": {
      "text/plain": [
       "'Somebody yaid yomething to Samantha.'"
      ]
     },
     "execution_count": 34,
     "metadata": {},
     "output_type": "execute_result"
    }
   ],
   "source": [
    "phrase = \"Somebody said something to Samantha.\"\n",
    "phrase.replace(\"s\", \"y\")"
   ]
  },
  {
   "cell_type": "code",
   "execution_count": 36,
   "id": "d373aaf0-b695-4b9b-bfb1-fc95983a9e14",
   "metadata": {},
   "outputs": [
    {
     "name": "stdin",
     "output_type": "stream",
     "text": [
      "Input a word or phrase: word\n",
      "Input a letter you want to find:  o\n"
     ]
    },
    {
     "data": {
      "text/plain": [
       "1"
      ]
     },
     "execution_count": 36,
     "metadata": {},
     "output_type": "execute_result"
    }
   ],
   "source": [
    "userInput1 = input(\"Input a word or phrase:\")\n",
    "userInput2 = input(\"Input a letter you want to find: \")\n",
    "userInput1.find(userInput2)"
   ]
  },
  {
   "cell_type": "markdown",
   "id": "bffb301a-04aa-44ee-b43a-3b4dbdb927ef",
   "metadata": {},
   "source": [
    "# REVIEW QUESTION #7\n",
    "\n",
    "---"
   ]
  },
  {
   "cell_type": "code",
   "execution_count": 41,
   "id": "2156086c-0a9d-407a-854e-2c3087c0f9ac",
   "metadata": {},
   "outputs": [
    {
     "name": "stdin",
     "output_type": "stream",
     "text": [
      "Enter some text:  I love dogs very much and I hate cats\n"
     ]
    },
    {
     "name": "stdout",
     "output_type": "stream",
     "text": [
      "i 10v3 d0g5 v3ry much 4nd i h473 c475\n"
     ]
    }
   ],
   "source": [
    "userInput = input(\"Enter some text: \")\n",
    "leet = (userInput.lower()\n",
    "        .replace(\"a\", \"4\")\n",
    "        .replace(\"b\", \"8\")\n",
    "        .replace(\"e\", \"3\")\n",
    "        .replace(\"l\", \"1\")\n",
    "        .replace(\"o\", \"0\")\n",
    "        .replace(\"s\", \"5\")\n",
    "        .replace(\"t\", \"7\"))\n",
    "print(leet)"
   ]
  }
 ],
 "metadata": {
  "kernelspec": {
   "display_name": "Python [conda env:base] *",
   "language": "python",
   "name": "conda-base-py"
  },
  "language_info": {
   "codemirror_mode": {
    "name": "ipython",
    "version": 3
   },
   "file_extension": ".py",
   "mimetype": "text/x-python",
   "name": "python",
   "nbconvert_exporter": "python",
   "pygments_lexer": "ipython3",
   "version": "3.13.5"
  }
 },
 "nbformat": 4,
 "nbformat_minor": 5
}
