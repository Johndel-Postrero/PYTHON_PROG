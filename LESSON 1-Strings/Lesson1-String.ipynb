{
 "cells": [
  {
   "cell_type": "markdown",
   "id": "81e4aa17-ffe4-4889-93b8-691a31d8e1e4",
   "metadata": {},
   "source": [
    "# REVIEW QUESTION #1\n",
    "\n",
    "--------"
   ]
  },
  {
   "cell_type": "code",
   "execution_count": 9,
   "id": "b954b07d-a39d-4662-98e7-16a1bcd2159c",
   "metadata": {},
   "outputs": [
    {
     "name": "stdout",
     "output_type": "stream",
     "text": [
      "The length of the string \"Good Afternoon\" is 14\n"
     ]
    }
   ],
   "source": [
    "# 1.) Create a string and print its length using the len() function.\n",
    "myString = \"Good Afternoon\"\n",
    "length = len(myString)\n",
    "print(f'The length of the string \"{myString}\" is', length)"
   ]
  },
  {
   "cell_type": "code",
   "execution_count": 10,
   "id": "6f4b18af-388e-4153-88a7-6c3de0690685",
   "metadata": {},
   "outputs": [
    {
     "name": "stdout",
     "output_type": "stream",
     "text": [
      "My name is Johndel\n"
     ]
    }
   ],
   "source": [
    "# 2.) Create two strings, concatenate them, and print the resulting string.\n",
    "string1 = \"John\"\n",
    "string2 = \"del\"\n",
    "magic_string = string1 + string2\n",
    "print(\"My name is\", magic_string)"
   ]
  },
  {
   "cell_type": "code",
   "execution_count": 11,
   "id": "6a7e61d8-e21c-4cab-bbae-959fb54ffd66",
   "metadata": {},
   "outputs": [
    {
     "name": "stdout",
     "output_type": "stream",
     "text": [
      "My name fullname is Johndel Postrero\n"
     ]
    }
   ],
   "source": [
    "# 3.) Create two strings and use concatenation to add a space inbetween them. Then print the result.\n",
    "string1 = \"Johndel\"\n",
    "string2 = \"Postrero\"\n",
    "magic_string = string1 + \" \" + string2\n",
    "print(\"My name fullname is\", magic_string)"
   ]
  },
  {
   "cell_type": "code",
   "execution_count": 12,
   "id": "eebf1612-03aa-4d87-be8f-998e9bf1663f",
   "metadata": {},
   "outputs": [
    {
     "name": "stdout",
     "output_type": "stream",
     "text": [
      "fox\n"
     ]
    }
   ],
   "source": [
    "# 4.) Print the string \"fox\" by using slice notation on the string \"The quick brown fox jumped over the lazy dog. #1234567890!\" to specify the correct range of characters.\n",
    "phrase = \"The quick brown fox jumped over the lazy dog. #1234567890!\"\n",
    "result = phrase[16:19]\n",
    "print(result)"
   ]
  },
  {
   "cell_type": "markdown",
   "id": "cef4e753-5457-49ff-8646-dd86a8b7f130",
   "metadata": {},
   "source": [
    "# REVIEW QUESTION #2\n",
    "\n",
    "-----"
   ]
  },
  {
   "cell_type": "code",
   "execution_count": 13,
   "id": "18965761-91b3-4606-9261-450addf31f57",
   "metadata": {},
   "outputs": [
    {
     "name": "stdout",
     "output_type": "stream",
     "text": [
      "animals\n",
      "badger\n",
      "honey bee\n",
      "honeybadger\n"
     ]
    }
   ],
   "source": [
    "# 1.) Write a script that converts the following strings to lowercase: \"Animals\", \"Badger\", \"Honey Bee\", \"Honeybadger\". Print each lowercase string on a separate line.\n",
    "str1 = \"Animals\"\n",
    "str2 = \"Badger\"\n",
    "str3 = \"Honey Bee\"\n",
    "str4 = \"HoneyBadger\"\n",
    "print(str1.lower())\n",
    "print(str2.lower())\n",
    "print(str3.lower())\n",
    "print(str4.lower())"
   ]
  },
  {
   "cell_type": "code",
   "execution_count": 14,
   "id": "c3ecd454-4b63-43a7-ac6f-b03ba1edf378",
   "metadata": {},
   "outputs": [
    {
     "name": "stdout",
     "output_type": "stream",
     "text": [
      "ANIMALS\n",
      "BADGER\n",
      "HONEY BEE\n",
      "HONEYBADGER\n"
     ]
    }
   ],
   "source": [
    "# 2.) Repeat Exercise 1, but convert each string to uppercase instead of lowercase.\n",
    "str1 = \"Animals\"\n",
    "str2 = \"Badger\"\n",
    "str3 = \"Honey Bee\"\n",
    "str4 = \"HoneyBadger\"\n",
    "print(str1.upper())\n",
    "print(str2.upper())\n",
    "print(str3.upper())\n",
    "print(str4.upper())"
   ]
  },
  {
   "cell_type": "code",
   "execution_count": 15,
   "id": "2ece480d-e376-473c-9d1c-166716700fd0",
   "metadata": {},
   "outputs": [
    {
     "name": "stdout",
     "output_type": "stream",
     "text": [
      "Filet Mignon\n",
      "Brisket\n"
     ]
    }
   ],
   "source": [
    "''' 3.) Write a script that removes whitespace from the following strings:\n",
    "string1= \" Filet Mignon\"\n",
    "string2= \"Brisket \" \n",
    "'''\n",
    "string1 =\" Filet Mignon\"\n",
    "string2 = \"Brisket \"\n",
    "print(string1.strip())\n",
    "print(string2.strip())"
   ]
  },
  {
   "cell_type": "code",
   "execution_count": 16,
   "id": "3fe82ecb-52b0-4dae-b0e7-f87c87db7820",
   "metadata": {},
   "outputs": [
    {
     "name": "stdout",
     "output_type": "stream",
     "text": [
      "False\n",
      "True\n"
     ]
    }
   ],
   "source": [
    "'''\n",
    "4.) Write a script that prints out the result of .startswith(\"be\") on each of\n",
    "the following strings:\n",
    "string1= \"Becomes\"\n",
    "string2= \"becomes\"\n",
    "'''\n",
    "string1 = \"Becomes\"\n",
    "string2 = \"becomes\"\n",
    "print(string1.startswith(\"be\"))\n",
    "print(string2.startswith(\"be\"))"
   ]
  },
  {
   "cell_type": "code",
   "execution_count": 17,
   "id": "bc1f6b00-56fc-404c-b9c6-89824c6850b3",
   "metadata": {},
   "outputs": [
    {
     "name": "stdout",
     "output_type": "stream",
     "text": [
      "True\n",
      "True\n"
     ]
    }
   ],
   "source": [
    "# 5.) Using the same strings from Exercise 4, write a script that uses string methods to alter each string so that .startswith(\"be\") returns True for all of them.\n",
    "string1 = \"Becomes\"\n",
    "string2 = \"becomes\"\n",
    "string1 = string1.lower()\n",
    "print(string1.startswith(\"be\"))\n",
    "print(string2.startswith(\"be\"))"
   ]
  },
  {
   "cell_type": "markdown",
   "id": "35ba4fbf-8a9e-491a-88f1-7a9ba17ff68e",
   "metadata": {},
   "source": [
    "# REVIEW QUESTION #3\n",
    "\n",
    "---"
   ]
  },
  {
   "cell_type": "code",
   "execution_count": 18,
   "id": "72fdc3d5-7c72-4b60-aff1-fee8833509db",
   "metadata": {},
   "outputs": [
    {
     "name": "stdin",
     "output_type": "stream",
     "text": [
      "Input a text: Good day!!!\n"
     ]
    },
    {
     "name": "stdout",
     "output_type": "stream",
     "text": [
      "The inputted text is: Good day!!!\n"
     ]
    }
   ],
   "source": [
    "# 1.) Write a script that takes input from the user and displays that input back.\n",
    "userInput = input(\"Input a text:\")\n",
    "print(\"The inputted text is:\", userInput)"
   ]
  },
  {
   "cell_type": "code",
   "execution_count": 19,
   "id": "fe8f527a-6e1a-4043-a3e3-f8a7175bc937",
   "metadata": {},
   "outputs": [
    {
     "name": "stdin",
     "output_type": "stream",
     "text": [
      "Input a text: GOOD DAY!!!\n"
     ]
    },
    {
     "name": "stdout",
     "output_type": "stream",
     "text": [
      "The inputted text is: good day!!!\n"
     ]
    }
   ],
   "source": [
    "# 2.) Write a script that takes input from the user and displays the input in lowercase.\n",
    "userInput = input(\"Input a text:\")\n",
    "userInput = userInput.lower()\n",
    "print(\"The inputted text is:\", userInput)"
   ]
  },
  {
   "cell_type": "code",
   "execution_count": 20,
   "id": "8b233011-530a-42a4-a8f8-7d85a897508b",
   "metadata": {},
   "outputs": [
    {
     "name": "stdin",
     "output_type": "stream",
     "text": [
      "Input a text: Guess of the length for this phrase\n"
     ]
    },
    {
     "name": "stdout",
     "output_type": "stream",
     "text": [
      "The inputted text is: 35\n"
     ]
    }
   ],
   "source": [
    "# 3.) Write a script that takes input from the user and displays the number of characters inputted.\n",
    "userInput = input(\"Input a text:\")\n",
    "userInput = len(userInput)\n",
    "print(\"The inputted text is:\", userInput)"
   ]
  },
  {
   "cell_type": "markdown",
   "id": "cba724f7-6c71-408e-a378-19c66c77691b",
   "metadata": {},
   "source": [
    "# REVIEW QUESTION #4\n",
    "\n",
    "----"
   ]
  },
  {
   "cell_type": "code",
   "execution_count": 21,
   "id": "f4b33a86-d856-4616-bcf2-1eb7f39bb87c",
   "metadata": {},
   "outputs": [
    {
     "name": "stdin",
     "output_type": "stream",
     "text": [
      "Tell me your name: johndel\n"
     ]
    },
    {
     "name": "stdout",
     "output_type": "stream",
     "text": [
      "Your name is Johndel\n"
     ]
    }
   ],
   "source": [
    "'''\n",
    "Write a script named first_letter.py that first prompts the user for input by\n",
    "using the string \"Tell me your name:\" The script should then determine the\n",
    "first letter of the user’s input, convert that letter to upper-case, and display\n",
    "it back.\n",
    "'''\n",
    "userInput = input(\"Tell me your name:\")\n",
    "userInput = userInput[0].upper() + userInput[1:]\n",
    "print(\"Your name is\", userInput)"
   ]
  },
  {
   "cell_type": "markdown",
   "id": "bfcd8d5e-b051-43e7-898c-9ebb10f5bfc5",
   "metadata": {},
   "source": [
    "# REVIEW QUESTION #5\n",
    "\n",
    "----"
   ]
  },
  {
   "cell_type": "code",
   "execution_count": 22,
   "id": "14a5c107-0812-4372-b726-40a55d289946",
   "metadata": {},
   "outputs": [
    {
     "name": "stdout",
     "output_type": "stream",
     "text": [
      "100\n"
     ]
    }
   ],
   "source": [
    "# 1.) Create a string containing an integer, then convert that string into an actual integer object using int(). Test that your new object is a number by multiplying it by another number and displaying the result.\n",
    "num1 = '20'\n",
    "num1 = int(num1)\n",
    "num2 = 5\n",
    "print(num1 * num2)"
   ]
  },
  {
   "cell_type": "code",
   "execution_count": 23,
   "id": "b9ea1383-770e-49b5-8c19-6d424fdcf154",
   "metadata": {},
   "outputs": [
    {
     "name": "stdout",
     "output_type": "stream",
     "text": [
      "100.0\n"
     ]
    }
   ],
   "source": [
    "# 2.) Repeat the previous exercise, but use a floating-point number and float().\n",
    "num1 = '20.0'\n",
    "num1 = float(num1)\n",
    "num2 = 5\n",
    "print(num1 * num2)"
   ]
  },
  {
   "cell_type": "code",
   "execution_count": 24,
   "id": "8852088d-e6c2-40cd-967e-426776c711b1",
   "metadata": {},
   "outputs": [
    {
     "name": "stdout",
     "output_type": "stream",
     "text": [
      "I am 20 years old\n"
     ]
    }
   ],
   "source": [
    "# 3.) Create a string object and an integer object, then display them side by side with a single print statement by using the str() function.\n",
    "str1 = 'I am'\n",
    "num1 = 20\n",
    "print(str1 + \" \" + str(num1) + \" years old\")"
   ]
  },
  {
   "cell_type": "code",
   "execution_count": 25,
   "id": "ac3777fa-2f70-4c1c-bbcc-e2c595f5a778",
   "metadata": {},
   "outputs": [
    {
     "name": "stdin",
     "output_type": "stream",
     "text": [
      "Input the first number: 10\n",
      "Input the second number: 2\n"
     ]
    },
    {
     "name": "stdout",
     "output_type": "stream",
     "text": [
      "The product is: 20\n"
     ]
    }
   ],
   "source": [
    "# 4.) Write a script that gets two numbers from the user using the input() function twice, multiplies the numbers together, and displays the result.\n",
    "userInput1 = input(\"Input the first number:\")\n",
    "userInput2 = input(\"Input the second number:\")\n",
    "product = int(userInput1) * int(userInput2)\n",
    "print(\"The product is:\", product)"
   ]
  },
  {
   "cell_type": "markdown",
   "id": "d6975e5b-b41f-41dd-a28c-b04616360e57",
   "metadata": {},
   "source": [
    "# REVIEW QUESTION #6\n",
    "\n",
    "---"
   ]
  },
  {
   "cell_type": "code",
   "execution_count": 26,
   "id": "e808ec53-2d56-4ebe-846b-c28726f9e9d7",
   "metadata": {},
   "outputs": [
    {
     "data": {
      "text/plain": [
       "-1"
      ]
     },
     "execution_count": 26,
     "metadata": {},
     "output_type": "execute_result"
    }
   ],
   "source": [
    "# 1.) In one line of code, display the result of trying to .find() the substring \"a\" in the string \"AAA\"\n",
    "word = \"AAA\"\n",
    "word.find(\"a\")"
   ]
  },
  {
   "cell_type": "code",
   "execution_count": 27,
   "id": "b8270739-319a-46c2-b3f0-19e4f8b0236e",
   "metadata": {},
   "outputs": [
    {
     "data": {
      "text/plain": [
       "'Somebody yaid yomething to Samantha.'"
      ]
     },
     "execution_count": 27,
     "metadata": {},
     "output_type": "execute_result"
    }
   ],
   "source": [
    "# 2.) Replace every occurrence of the character \"s\" with \"y” in the string \"Somebody said something to Samantha.\".\n",
    "phrase = \"Somebody said something to Samantha.\"\n",
    "phrase.replace(\"s\", \"y\")"
   ]
  },
  {
   "cell_type": "code",
   "execution_count": 28,
   "id": "d373aaf0-b695-4b9b-bfb1-fc95983a9e14",
   "metadata": {},
   "outputs": [
    {
     "name": "stdin",
     "output_type": "stream",
     "text": [
      "Input a word or phrase: Hello\n",
      "Input a letter you want to find:  l\n"
     ]
    },
    {
     "data": {
      "text/plain": [
       "2"
      ]
     },
     "execution_count": 28,
     "metadata": {},
     "output_type": "execute_result"
    }
   ],
   "source": [
    "# 3.) Write and test a script that accepts user input using the input() function and displays the result of trying to .find() a particular letter in that input.\n",
    "userInput1 = input(\"Input a word or phrase:\")\n",
    "userInput2 = input(\"Input a letter you want to find: \")\n",
    "userInput1.find(userInput2)"
   ]
  },
  {
   "cell_type": "markdown",
   "id": "bffb301a-04aa-44ee-b43a-3b4dbdb927ef",
   "metadata": {},
   "source": [
    "# REVIEW QUESTION #7\n",
    "\n",
    "---"
   ]
  },
  {
   "cell_type": "code",
   "execution_count": 29,
   "id": "2156086c-0a9d-407a-854e-2c3087c0f9ac",
   "metadata": {},
   "outputs": [
    {
     "name": "stdin",
     "output_type": "stream",
     "text": [
      "Enter some text:  I like to eat eggs and spam.\n"
     ]
    },
    {
     "name": "stdout",
     "output_type": "stream",
     "text": [
      "i 1ik3 70 347 3gg5 4nd 5p4m.\n"
     ]
    }
   ],
   "source": [
    "'''\n",
    "Write a script called translate.py that asks the user for some input\n",
    "with the following prompt: Enter some text:. Then use the .replace()\n",
    "method to convert the text entered by the user into “leetspeak” by making the following changes to lower-case letters:\n",
    "• The letter a becomes 4\n",
    "• The letter b becomes 8\n",
    "• The letter e becomes 3\n",
    "• The letter l becomes 1\n",
    "• The letter o becomes 0\n",
    "• The letter s becomes 5\n",
    "• The letter t becomes 7\n",
    "Your program should then display the resulting string as output.\n",
    "Below is a sample run of the program:\n",
    "Enter some text: I like to eat eggs and spam.\n",
    "I 1ik3 70 347 3gg5 4nd 5p4m.\n",
    "'''\n",
    "userInput = input(\"Enter some text: \")\n",
    "change = (userInput.lower()\n",
    "        .replace(\"a\", \"4\")\n",
    "        .replace(\"b\", \"8\")\n",
    "        .replace(\"e\", \"3\")\n",
    "        .replace(\"l\", \"1\")\n",
    "        .replace(\"o\", \"0\")\n",
    "        .replace(\"s\", \"5\")\n",
    "        .replace(\"t\", \"7\"))\n",
    "print(change)"
   ]
  },
  {
   "cell_type": "code",
   "execution_count": null,
   "id": "ae174fbd-b363-43cf-a68f-0798595c374c",
   "metadata": {},
   "outputs": [],
   "source": []
  }
 ],
 "metadata": {
  "kernelspec": {
   "display_name": "Python 3 (ipykernel)",
   "language": "python",
   "name": "python3"
  },
  "language_info": {
   "codemirror_mode": {
    "name": "ipython",
    "version": 3
   },
   "file_extension": ".py",
   "mimetype": "text/x-python",
   "name": "python",
   "nbconvert_exporter": "python",
   "pygments_lexer": "ipython3",
   "version": "3.13.5"
  }
 },
 "nbformat": 4,
 "nbformat_minor": 5
}
