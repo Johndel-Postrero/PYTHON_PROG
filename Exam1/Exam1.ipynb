{
 "cells": [
  {
   "cell_type": "markdown",
   "id": "2b2c8172-399b-4d8c-b8cd-335f2aaae626",
   "metadata": {},
   "source": [
    "# 1st Long Exam 9-10-25\n",
    "\n"
   ]
  },
  {
   "cell_type": "markdown",
   "id": "7bebbd0d-6de5-4676-844d-f200d36cba8c",
   "metadata": {},
   "source": [
    "# Johndel Postrero ID:21411277\n",
    "\n",
    "___"
   ]
  },
  {
   "cell_type": "code",
   "execution_count": 1,
   "id": "4ba599ad-8bc3-4e28-9878-8a6ca39f3d67",
   "metadata": {},
   "outputs": [
    {
     "name": "stdin",
     "output_type": "stream",
     "text": [
      "Tell me your name: Johndel\n"
     ]
    },
    {
     "name": "stdout",
     "output_type": "stream",
     "text": [
      "Hello there Johndel.\n"
     ]
    }
   ],
   "source": [
    "userInput = input(\"Tell me your name:\")\n",
    "print(f\"Hello there {userInput}.\")"
   ]
  },
  {
   "cell_type": "code",
   "execution_count": 4,
   "id": "ee8789fd-4d73-470e-bac1-1e9c55475f2b",
   "metadata": {},
   "outputs": [
    {
     "name": "stdin",
     "output_type": "stream",
     "text": [
      "Enter a number: 2\n"
     ]
    },
    {
     "name": "stdout",
     "output_type": "stream",
     "text": [
      "The sum is 3\n"
     ]
    }
   ],
   "source": [
    "num = int(input(\"Enter a number:\"))\n",
    "sum = 0\n",
    "for i in range(1, abs(num) + 1):\n",
    "    sum += i\n",
    "print(\"The sum is\", sum) "
   ]
  },
  {
   "cell_type": "code",
   "execution_count": 9,
   "id": "20876261-8046-4324-977c-aecc2eb6d326",
   "metadata": {},
   "outputs": [
    {
     "name": "stdin",
     "output_type": "stream",
     "text": [
      "Enter a letter: a\n"
     ]
    },
    {
     "name": "stdout",
     "output_type": "stream",
     "text": [
      "You entered a vowel!\n"
     ]
    }
   ],
   "source": [
    "userInput = input(\"Enter a letter:\")\n",
    "letter = userInput.lower()\n",
    "if letter in [\"a\", \"e\", \"i\", \"o\", \"u\"]:\n",
    "      print(\"You entered a vowel!\")\n",
    "elif letter == \"y\":\n",
    "    print(\"Sometimes y is a vowel, and sometimes y is a consonant!\")\n",
    "else:\n",
    "    print(\"You have entered a consonant letter!\")"
   ]
  },
  {
   "cell_type": "code",
   "execution_count": 12,
   "id": "e8c6a16a-734a-4f91-8633-2622d7fefc96",
   "metadata": {},
   "outputs": [
    {
     "name": "stdin",
     "output_type": "stream",
     "text": [
      "Enter a word: civic\n"
     ]
    },
    {
     "name": "stdout",
     "output_type": "stream",
     "text": [
      "The word you entered is a palendrome!\n"
     ]
    }
   ],
   "source": [
    "userInput = input(\"Enter a word:\")\n",
    "lowered = userInput.lower()\n",
    "length = len(lowered)\n",
    "isPalen = True\n",
    "for i in range(0, length):\n",
    "    if lowered[i] != lowered[length - 1 - i]:\n",
    "        isPalen = False\n",
    "if isPalen == True:\n",
    "    print(\"The word you entered is a palendrome!\")\n",
    "else:\n",
    "    print(\"The word is not a palendrome!\")"
   ]
  },
  {
   "cell_type": "code",
   "execution_count": 15,
   "id": "da8357b9-fc64-49f9-b8c2-910083e0f3ad",
   "metadata": {},
   "outputs": [
    {
     "name": "stdin",
     "output_type": "stream",
     "text": [
      "Enter the first side (a): 4\n",
      "Enter the second side (b): 4\n"
     ]
    },
    {
     "name": "stdout",
     "output_type": "stream",
     "text": [
      "The result is 5.656854249492381\n"
     ]
    }
   ],
   "source": [
    "def calc_hypot(a,b):\n",
    "    return((a**2) + (b**2))**(1/2)\n",
    "\n",
    "userInput1 = float(input(\"Enter the first side (a):\"))\n",
    "userInput2 = float(input(\"Enter the second side (b):\"))\n",
    "hypo = calc_hypot(userInput1, userInput2)\n",
    "print(\"The result is\", hypo)"
   ]
  },
  {
   "cell_type": "code",
   "execution_count": null,
   "id": "49a71696-7886-4173-8a03-370a6958ace4",
   "metadata": {},
   "outputs": [],
   "source": []
  }
 ],
 "metadata": {
  "kernelspec": {
   "display_name": "Python 3 (ipykernel)",
   "language": "python",
   "name": "python3"
  },
  "language_info": {
   "codemirror_mode": {
    "name": "ipython",
    "version": 3
   },
   "file_extension": ".py",
   "mimetype": "text/x-python",
   "name": "python",
   "nbconvert_exporter": "python",
   "pygments_lexer": "ipython3",
   "version": "3.13.5"
  }
 },
 "nbformat": 4,
 "nbformat_minor": 5
}
