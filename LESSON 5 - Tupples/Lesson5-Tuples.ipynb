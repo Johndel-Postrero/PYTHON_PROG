{
 "cells": [
  {
   "cell_type": "markdown",
   "id": "bd65e736-5634-4d96-a9a8-67ea181a3fe8",
   "metadata": {},
   "source": [
    "# REVIEW EXERCISES #1\n",
    "\n",
    "___"
   ]
  },
  {
   "cell_type": "code",
   "execution_count": 25,
   "id": "9981b2e1-d5fc-48c6-be3b-f750740a7c6c",
   "metadata": {},
   "outputs": [
    {
     "data": {
      "text/plain": [
       "('FIRST', 'SECOND', 'THIRD')"
      ]
     },
     "execution_count": 25,
     "metadata": {},
     "output_type": "execute_result"
    }
   ],
   "source": [
    "cardinal_numbers = (\"FIRST\", \"SECOND\", \"THIRD\")\n",
    "cardinal_numbers"
   ]
  },
  {
   "cell_type": "code",
   "execution_count": 26,
   "id": "189fc2ef-1610-4cf7-a826-ee2641aa3c19",
   "metadata": {},
   "outputs": [
    {
     "name": "stdout",
     "output_type": "stream",
     "text": [
      "SECOND\n"
     ]
    }
   ],
   "source": [
    "print(cardinal_numbers[1])"
   ]
  },
  {
   "cell_type": "code",
   "execution_count": 27,
   "id": "30c131d9-662c-42b3-9695-b1283637d256",
   "metadata": {},
   "outputs": [
    {
     "name": "stdout",
     "output_type": "stream",
     "text": [
      "FIRST\n",
      "SECOND\n",
      "THIRD\n"
     ]
    }
   ],
   "source": [
    "position1, position2, position3 = cardinal_numbers\n",
    "\n",
    "print(position1)\n",
    "print(position2)\n",
    "print(position3)"
   ]
  },
  {
   "cell_type": "code",
   "execution_count": 28,
   "id": "4eab6d11-cf8b-4a42-9dca-f0cccdf9fa91",
   "metadata": {},
   "outputs": [
    {
     "name": "stdout",
     "output_type": "stream",
     "text": [
      "('J', 'O', 'H', 'N', 'D', 'E', 'L')\n"
     ]
    }
   ],
   "source": [
    "my_name = tuple(\"JOHNDEL\")\n",
    "print(my_name)"
   ]
  },
  {
   "cell_type": "code",
   "execution_count": 5,
   "id": "2719506a-c902-475a-bfab-57690fce0f3c",
   "metadata": {},
   "outputs": [
    {
     "name": "stdout",
     "output_type": "stream",
     "text": [
      "True\n"
     ]
    }
   ],
   "source": [
    "print(\"\" in my_name)"
   ]
  },
  {
   "cell_type": "code",
   "execution_count": 29,
   "id": "763faec2-6d8a-4186-9668-f82a5cc5f6a7",
   "metadata": {},
   "outputs": [
    {
     "name": "stdout",
     "output_type": "stream",
     "text": [
      "('O', 'H', 'N', 'D', 'E', 'L')\n"
     ]
    }
   ],
   "source": [
    "new_tuple = my_name[1:]\n",
    "print(new_tuple)  "
   ]
  },
  {
   "cell_type": "markdown",
   "id": "6fdc32df-0b33-47b8-a7c8-483b5fda8b78",
   "metadata": {},
   "source": [
    "# REVIEW EXERCISES #2\n",
    "\n",
    "____"
   ]
  },
  {
   "cell_type": "code",
   "execution_count": 30,
   "id": "9e32fd77-b78d-4806-b09f-78fa4abc1e9a",
   "metadata": {},
   "outputs": [
    {
     "data": {
      "text/plain": [
       "['RICE', 'BEANS']"
      ]
     },
     "execution_count": 30,
     "metadata": {},
     "output_type": "execute_result"
    }
   ],
   "source": [
    "food = [\"RICE\", \"BEANS\"]\n",
    "food"
   ]
  },
  {
   "cell_type": "code",
   "execution_count": 18,
   "id": "195210f0-8ef6-4c32-81b4-d31464b6ae96",
   "metadata": {},
   "outputs": [
    {
     "name": "stdout",
     "output_type": "stream",
     "text": [
      "['RICE', 'BEANS', 'BROCCOLI']\n"
     ]
    }
   ],
   "source": [
    "food.append(\"BROCCOLI\")\n",
    "print(food)"
   ]
  },
  {
   "cell_type": "code",
   "execution_count": 19,
   "id": "3cc44256-2992-41dd-958b-bd83e658c674",
   "metadata": {},
   "outputs": [
    {
     "name": "stdout",
     "output_type": "stream",
     "text": [
      "['RICE', 'BEANS', 'BROCCOLI', 'BREAD', 'PIZZA']\n"
     ]
    }
   ],
   "source": [
    "food.extend([\"BREAD\", \"PIZZA\"])\n",
    "print(food)"
   ]
  },
  {
   "cell_type": "code",
   "execution_count": 20,
   "id": "b1bacb8d-73c7-49b2-a58e-ced24c67cdb9",
   "metadata": {},
   "outputs": [
    {
     "name": "stdout",
     "output_type": "stream",
     "text": [
      "['RICE', 'BEANS']\n"
     ]
    }
   ],
   "source": [
    "print(food[:2])"
   ]
  },
  {
   "cell_type": "code",
   "execution_count": 21,
   "id": "63e36d1b-37bc-48eb-ae06-9f6ed0f23f04",
   "metadata": {},
   "outputs": [
    {
     "name": "stdout",
     "output_type": "stream",
     "text": [
      "PIZZA\n"
     ]
    }
   ],
   "source": [
    "print(food[-1])"
   ]
  },
  {
   "cell_type": "code",
   "execution_count": 22,
   "id": "68e1f585-6ade-40fb-afa8-e465fb48fd9e",
   "metadata": {},
   "outputs": [
    {
     "name": "stdout",
     "output_type": "stream",
     "text": [
      "['EGGS', 'FRUIT', 'ORANGE JUICE']\n"
     ]
    }
   ],
   "source": [
    "breakfast = \"EGGS, FRUIT, ORANGE JUICE\".split(\", \")\n",
    "print(breakfast)"
   ]
  },
  {
   "cell_type": "code",
   "execution_count": 23,
   "id": "f0915a0d-bacb-4fc3-becc-60dcf017297e",
   "metadata": {},
   "outputs": [
    {
     "name": "stdout",
     "output_type": "stream",
     "text": [
      "3\n"
     ]
    }
   ],
   "source": [
    "print(len(breakfast))"
   ]
  },
  {
   "cell_type": "code",
   "execution_count": 24,
   "id": "542154e0-cb6e-46cf-8d70-2772237bf56b",
   "metadata": {},
   "outputs": [
    {
     "name": "stdout",
     "output_type": "stream",
     "text": [
      "[4, 5, 12]\n"
     ]
    }
   ],
   "source": [
    "lengths = [len(item) for item in breakfast]\n",
    "print(lengths)"
   ]
  },
  {
   "cell_type": "markdown",
   "id": "b6dc66f8-65ab-4d03-a2fd-fa82b7a77451",
   "metadata": {},
   "source": [
    "# REVIEW EXERCISES #3\n",
    "\n",
    "___"
   ]
  },
  {
   "cell_type": "code",
   "execution_count": 21,
   "id": "66b339f1-87ec-40ab-ba02-1b31dc65d8a3",
   "metadata": {},
   "outputs": [
    {
     "data": {
      "text/plain": [
       "((1, 2), (3, 4))"
      ]
     },
     "execution_count": 21,
     "metadata": {},
     "output_type": "execute_result"
    }
   ],
   "source": [
    "data = ((1, 2), (3, 4))\n",
    "data"
   ]
  },
  {
   "cell_type": "code",
   "execution_count": 22,
   "id": "34686e6b-1803-4fc2-8865-a654157270fc",
   "metadata": {
    "scrolled": true
   },
   "outputs": [
    {
     "name": "stdout",
     "output_type": "stream",
     "text": [
      "Row 1 sum: 3\n",
      "Row 2 sum: 7\n"
     ]
    }
   ],
   "source": [
    "row = 1\n",
    "for num in data:\n",
    "    print(f\"Row {row} sum: {sum(num)}\")\n",
    "    row += 1"
   ]
  },
  {
   "cell_type": "code",
   "execution_count": 8,
   "id": "2cb1df61-a6a2-4b62-bfa1-6ec8bdf1edc7",
   "metadata": {},
   "outputs": [
    {
     "name": "stdout",
     "output_type": "stream",
     "text": [
      "((1, 2), (3, 4))\n"
     ]
    }
   ],
   "source": [
    "copy_numbers = data[0:2]\n",
    "print(copy_numbers)"
   ]
  },
  {
   "cell_type": "code",
   "execution_count": 23,
   "id": "87536e17-2101-43ed-a743-e82a7e885411",
   "metadata": {},
   "outputs": [
    {
     "name": "stdout",
     "output_type": "stream",
     "text": [
      "Unsorted: (1, 8, 11, 46, 2, 5, 67)\n",
      "Sorted: (1, 2, 5, 8, 11, 46, 67)\n"
     ]
    }
   ],
   "source": [
    "data = (1, 8, 11, 46, 2, 5, 67)\n",
    "numbersList = list(data)\n",
    "numbersList.sort()\n",
    "\n",
    "print(f\"Unsorted: {data}\")\n",
    "print(f\"Sorted: {tuple(numbersList)}\")"
   ]
  },
  {
   "cell_type": "markdown",
   "id": "fca03af7-7ea8-4dbd-b9ed-626971e3bcad",
   "metadata": {},
   "source": [
    "# CHALLENGE: LIST OF LISTS\n",
    "\n",
    "____"
   ]
  },
  {
   "cell_type": "code",
   "execution_count": 30,
   "id": "677bac19-11e5-4886-acdc-09e58e50d29d",
   "metadata": {},
   "outputs": [
    {
     "name": "stdout",
     "output_type": "stream",
     "text": [
      "California Institute of Technology - Enrollment: 2175, Tuition: 37704\n",
      "Harvard - Enrollment: 19627, Tuition: 39849\n",
      "Massachusetts Institute of Technology - Enrollment: 10566, Tuition: 40732\n",
      "Princeton - Enrollment: 7802, Tuition: 37000\n",
      "Rice - Enrollment: 5879, Tuition: 35551\n",
      "Stanford - Enrollment: 19535, Tuition: 40569\n",
      "Yale - Enrollment: 11701, Tuition: 40500\n"
     ]
    }
   ],
   "source": [
    "universities = [\n",
    "    ['California Institute of Technology', 2175, 37704],\n",
    "    ['Harvard', 19627, 39849],\n",
    "    ['Massachusetts Institute of Technology', 10566, 40732],\n",
    "    ['Princeton', 7802, 37000],\n",
    "    ['Rice', 5879, 35551],\n",
    "    ['Stanford', 19535, 40569],\n",
    "    ['Yale', 11701, 40500]\n",
    "]\n",
    "\n",
    "for uni in universities:\n",
    "    print(f\"{uni[0]} - Enrollment: {uni[1]}, Tuition: {uni[2]}\")"
   ]
  },
  {
   "cell_type": "markdown",
   "id": "063fcf38-e5b1-48be-8c78-a09dd6628df4",
   "metadata": {},
   "source": [
    "# CHALLENGE: WAX POETIC\n",
    "\n",
    "___"
   ]
  },
  {
   "cell_type": "code",
   "execution_count": 31,
   "id": "74c02954-403b-4d70-9546-ac550e4a50ab",
   "metadata": {},
   "outputs": [
    {
     "name": "stdout",
     "output_type": "stream",
     "text": [
      "Nouns: ['FOSSIL', 'HORSE', 'AARDVARK', 'JUDGE', 'CHEF', 'MANGO', 'EXTROVERT', 'GORILLA']\n",
      "Verbs: ['KICKS', 'JINGLES', 'BOUNCES', 'SLURPS', 'MEOWS', 'EXPLODES', 'CURDLES']\n",
      "Adjectives: ['FURRY', 'BALDING', 'INCREDULOUS', 'FRAGRANT', 'EXUBERANT', 'GLISTENING']\n",
      "Prepositions: ['AGAINST', 'AFTER', 'INTO', 'BENEATH', 'UPON', 'FOR', 'IN', 'LIKE', 'OVER', 'WITHIN']\n",
      "Adverbs: ['CURIOUSLY', 'FURIOUSLY', 'SENSUOUSLY', 'EXTRAVAGANTLY', 'TANTALIZINGLY']\n"
     ]
    }
   ],
   "source": [
    "nouns = [\"FOSSIL\", \"HORSE\", \"AARDVARK\", \"JUDGE\", \"CHEF\", \"MANGO\", \"EXTROVERT\", \"GORILLA\"]\n",
    "verbs = [\"KICKS\", \"JINGLES\", \"BOUNCES\", \"SLURPS\", \"MEOWS\", \"EXPLODES\", \"CURDLES\"]\n",
    "adjectives = [\"FURRY\", \"BALDING\", \"INCREDULOUS\", \"FRAGRANT\", \"EXUBERANT\", \"GLISTENING\"]\n",
    "prepositions = [\"AGAINST\", \"AFTER\", \"INTO\", \"BENEATH\", \"UPON\", \"FOR\", \"IN\", \"LIKE\", \"OVER\", \"WITHIN\"]\n",
    "adverbs = [\"CURIOUSLY\", \"FURIOUSLY\", \"SENSUOUSLY\", \"EXTRAVAGANTLY\", \"TANTALIZINGLY\"]\n",
    "\n",
    "print(\"Nouns:\", nouns)\n",
    "print(\"Verbs:\", verbs)\n",
    "print(\"Adjectives:\", adjectives)\n",
    "print(\"Prepositions:\", prepositions)\n",
    "print(\"Adverbs:\", adverbs)"
   ]
  },
  {
   "cell_type": "markdown",
   "id": "44b215c4-eed2-46f5-9d87-88b6e8e47553",
   "metadata": {},
   "source": [
    "# REVIEW EXERCISES #4\n",
    "\n",
    "_____"
   ]
  },
  {
   "cell_type": "code",
   "execution_count": 32,
   "id": "0f25c2c7-af9d-4a71-9ac1-2b2dd9cfda1d",
   "metadata": {},
   "outputs": [],
   "source": [
    "captains = {}"
   ]
  },
  {
   "cell_type": "code",
   "execution_count": 33,
   "id": "909d2c31-efd3-4a65-996d-78de01228300",
   "metadata": {},
   "outputs": [],
   "source": [
    "captains[\"Enterprise\"] = \"Picard\"\n",
    "captains[\"Voyager\"] = \"Janeway\"\n",
    "captains[\"Defiant\"] = \"Sisko\""
   ]
  },
  {
   "cell_type": "code",
   "execution_count": 34,
   "id": "524cd717-edfe-4173-ba76-fd8c1d4ad62e",
   "metadata": {},
   "outputs": [],
   "source": [
    "if \"Enterprise\" not in captains:\n",
    "    captains[\"Enterprise\"] = \"Unknown\"\n",
    "\n",
    "if \"Discovery\" not in captains:\n",
    "    captains[\"Discovery\"] = \"Unknown\""
   ]
  },
  {
   "cell_type": "code",
   "execution_count": 35,
   "id": "183f0f10-1a71-4359-9689-5d1971abfa91",
   "metadata": {},
   "outputs": [
    {
     "name": "stdout",
     "output_type": "stream",
     "text": [
      "The Enterprise is captained by Picard.\n",
      "The Voyager is captained by Janeway.\n",
      "The Defiant is captained by Sisko.\n",
      "The Discovery is captained by Unknown.\n"
     ]
    }
   ],
   "source": [
    "for ship, captain in captains.items():\n",
    "    print(f\"The {ship} is captained by {captain}.\")"
   ]
  },
  {
   "cell_type": "code",
   "execution_count": 36,
   "id": "2b4d047e-97d7-4698-9629-96681e7778e3",
   "metadata": {},
   "outputs": [
    {
     "name": "stdout",
     "output_type": "stream",
     "text": [
      "{'Enterprise': 'Picard', 'Voyager': 'Janeway', 'Defiant': 'Sisko'}\n"
     ]
    }
   ],
   "source": [
    "del captains[\"Discovery\"]\n",
    "print(captains)"
   ]
  },
  {
   "cell_type": "code",
   "execution_count": 37,
   "id": "3ec0f38d-3e20-4164-94d9-842f9bac3e0a",
   "metadata": {},
   "outputs": [
    {
     "name": "stdout",
     "output_type": "stream",
     "text": [
      "{'Enterprise': 'Picard', 'Voyager': 'Janeway', 'Defiant': 'Sisko'}\n"
     ]
    }
   ],
   "source": [
    "captains2 = dict(\n",
    "    Enterprise=\"Picard\",\n",
    "    Voyager=\"Janeway\",\n",
    "    Defiant=\"Sisko\"\n",
    ")\n",
    "\n",
    "print(captains2)"
   ]
  },
  {
   "cell_type": "markdown",
   "id": "38cdfb1b-b3ce-4aad-93df-c4f6c803b2b6",
   "metadata": {},
   "source": [
    "# CHALLENGE: CAPITAL CITY LOOP\n",
    "\n",
    "___"
   ]
  },
  {
   "cell_type": "code",
   "execution_count": 38,
   "id": "4ec9de32-7123-4212-96c1-fc6282cb3a7d",
   "metadata": {},
   "outputs": [
    {
     "name": "stdout",
     "output_type": "stream",
     "text": [
      "The capital of Alabama is Montgomery.\n",
      "The capital of Alaska is Juneau.\n",
      "The capital of Arizona is Phoenix.\n",
      "The capital of Arkansas is Little Rock.\n",
      "The capital of California is Sacramento.\n"
     ]
    }
   ],
   "source": [
    "capitals = {\n",
    "    \"Alabama\": \"Montgomery\",\n",
    "    \"Alaska\": \"Juneau\",\n",
    "    \"Arizona\": \"Phoenix\",\n",
    "    \"Arkansas\": \"Little Rock\",\n",
    "    \"California\": \"Sacramento\",\n",
    "    'California': 'Sacramento',\n",
    "    'Colorado': 'Denver',\n",
    "    'Connecticut': 'Hartford',\n",
    "    'Delaware': 'Dover',\n",
    "    'Florida': 'Tallahassee',\n",
    "    'Georgia': 'Atlanta',\n",
    "}\n",
    "\n",
    "for state, capital in capitals.items():\n",
    "    print(f\"The capital of {state} is {capital}.\")"
   ]
  }
 ],
 "metadata": {
  "kernelspec": {
   "display_name": "Python 3 (ipykernel)",
   "language": "python",
   "name": "python3"
  },
  "language_info": {
   "codemirror_mode": {
    "name": "ipython",
    "version": 3
   },
   "file_extension": ".py",
   "mimetype": "text/x-python",
   "name": "python",
   "nbconvert_exporter": "python",
   "pygments_lexer": "ipython3",
   "version": "3.10.18"
  }
 },
 "nbformat": 4,
 "nbformat_minor": 5
}
